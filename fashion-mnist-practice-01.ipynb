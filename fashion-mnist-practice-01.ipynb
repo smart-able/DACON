{
 "cells": [
  {
   "cell_type": "code",
   "execution_count": 1,
   "id": "83076f22",
   "metadata": {
    "_cell_guid": "b1076dfc-b9ad-4769-8c92-a6c4dae69d19",
    "_uuid": "8f2839f25d086af736a60e9eeb907d3b93b6e0e5",
    "execution": {
     "iopub.execute_input": "2023-03-05T13:43:31.709742Z",
     "iopub.status.busy": "2023-03-05T13:43:31.709281Z",
     "iopub.status.idle": "2023-03-05T13:43:31.722981Z",
     "shell.execute_reply": "2023-03-05T13:43:31.721838Z"
    },
    "papermill": {
     "duration": 0.030944,
     "end_time": "2023-03-05T13:43:31.725313",
     "exception": false,
     "start_time": "2023-03-05T13:43:31.694369",
     "status": "completed"
    },
    "tags": []
   },
   "outputs": [],
   "source": [
    "# This Python 3 environment comes with many helpful analytics libraries installed\n",
    "# It is defined by the kaggle/python Docker image: https://github.com/kaggle/docker-python\n",
    "# For example, here's several helpful packages to load\n",
    "\n",
    "import numpy as np # linear algebra\n",
    "import pandas as pd # data processing, CSV file I/O (e.g. pd.read_csv)\n",
    "\n",
    "# Input data files are available in the read-only \"../input/\" directory\n",
    "# For example, running this (by clicking run or pressing Shift+Enter) will list all files under the input directory\n",
    "\n",
    "import os\n",
    "for dirname, _, filenames in os.walk('/kaggle/input'):\n",
    "    for filename in filenames:\n",
    "        print(os.path.join(dirname, filename))\n",
    "\n",
    "# You can write up to 20GB to the current directory (/kaggle/working/) that gets preserved as output when you create a version using \"Save & Run All\" \n",
    "# You can also write temporary files to /kaggle/temp/, but they won't be saved outside of the current session"
   ]
  },
  {
   "cell_type": "markdown",
   "id": "5718f880",
   "metadata": {
    "papermill": {
     "duration": 0.011858,
     "end_time": "2023-03-05T13:43:31.749171",
     "exception": false,
     "start_time": "2023-03-05T13:43:31.737313",
     "status": "completed"
    },
    "tags": []
   },
   "source": [
    "### Keras fashion mnist dataset을 다운로드\n",
    "* 5만개의 학습용, 1만개의 테스트용 grayscale image array를 다운로드"
   ]
  },
  {
   "cell_type": "code",
   "execution_count": 2,
   "id": "0b3e2393",
   "metadata": {
    "execution": {
     "iopub.execute_input": "2023-03-05T13:43:31.774339Z",
     "iopub.status.busy": "2023-03-05T13:43:31.773469Z",
     "iopub.status.idle": "2023-03-05T13:43:50.946922Z",
     "shell.execute_reply": "2023-03-05T13:43:50.945495Z"
    },
    "papermill": {
     "duration": 19.188694,
     "end_time": "2023-03-05T13:43:50.949555",
     "exception": false,
     "start_time": "2023-03-05T13:43:31.760861",
     "status": "completed"
    },
    "tags": []
   },
   "outputs": [
    {
     "name": "stdout",
     "output_type": "stream",
     "text": [
      "Downloading data from https://storage.googleapis.com/tensorflow/tf-keras-datasets/train-labels-idx1-ubyte.gz\n",
      "29515/29515 [==============================] - 0s 0us/step\n",
      "Downloading data from https://storage.googleapis.com/tensorflow/tf-keras-datasets/train-images-idx3-ubyte.gz\n",
      "26421880/26421880 [==============================] - 0s 0us/step\n",
      "Downloading data from https://storage.googleapis.com/tensorflow/tf-keras-datasets/t10k-labels-idx1-ubyte.gz\n",
      "5148/5148 [==============================] - 0s 0us/step\n",
      "Downloading data from https://storage.googleapis.com/tensorflow/tf-keras-datasets/t10k-images-idx3-ubyte.gz\n",
      "4422102/4422102 [==============================] - 0s 0us/step\n",
      "train dataset shape: (60000, 28, 28) (60000,)\n",
      "test dataset shape: (10000, 28, 28) (10000,)\n"
     ]
    }
   ],
   "source": [
    "from tensorflow.keras.datasets import fashion_mnist\n",
    "\n",
    "# 전체 6만개 데이터 중, 5만개는 학습 데이터용, 1만개는 테스트 데이터용으로 분리\n",
    "(train_images, train_labels), (test_images, test_labels) = fashion_mnist.load_data()\n",
    "# image size는 28x28의 grayscale 2차원 데이터\n",
    "print(\"train dataset shape:\", train_images.shape, train_labels.shape)\n",
    "print(\"test dataset shape:\", test_images.shape, test_labels.shape)"
   ]
  },
  {
   "cell_type": "markdown",
   "id": "64b885e7",
   "metadata": {
    "papermill": {
     "duration": 0.013404,
     "end_time": "2023-03-05T13:43:50.978037",
     "exception": false,
     "start_time": "2023-03-05T13:43:50.964633",
     "status": "completed"
    },
    "tags": []
   },
   "source": [
    "### MNIST image array 시각화"
   ]
  },
  {
   "cell_type": "code",
   "execution_count": 3,
   "id": "4b955d72",
   "metadata": {
    "execution": {
     "iopub.execute_input": "2023-03-05T13:43:51.007692Z",
     "iopub.status.busy": "2023-03-05T13:43:51.006037Z",
     "iopub.status.idle": "2023-03-05T13:43:51.282963Z",
     "shell.execute_reply": "2023-03-05T13:43:51.281666Z"
    },
    "papermill": {
     "duration": 0.294149,
     "end_time": "2023-03-05T13:43:51.285553",
     "exception": false,
     "start_time": "2023-03-05T13:43:50.991404",
     "status": "completed"
    },
    "tags": []
   },
   "outputs": [
    {
     "data": {
      "text/plain": [
       "Text(0.5, 1.0, '9')"
      ]
     },
     "execution_count": 3,
     "metadata": {},
     "output_type": "execute_result"
    },
    {
     "data": {
      "image/png": "[encoded data removed]",
      "text/plain": [
       "<Figure size 640x480 with 1 Axes>"
      ]
     },
     "metadata": {},
     "output_type": "display_data"
    }
   ],
   "source": [
    "import matplotlib.pyplot as plt\n",
    "%matplotlib inline\n",
    "\n",
    "plt.imshow(train_images[0], cmap='gray')\n",
    "plt.title(train_labels[0])"
   ]
  },
  {
   "cell_type": "code",
   "execution_count": 4,
   "id": "37a10707",
   "metadata": {
    "collapsed": true,
    "execution": {
     "iopub.execute_input": "2023-03-05T13:43:51.323234Z",
     "iopub.status.busy": "2023-03-05T13:43:51.322537Z",
     "iopub.status.idle": "2023-03-05T13:43:51.331675Z",
     "shell.execute_reply": "2023-03-05T13:43:51.330641Z"
    },
    "jupyter": {
     "outputs_hidden": true
    },
    "papermill": {
     "duration": 0.025683,
     "end_time": "2023-03-05T13:43:51.333794",
     "exception": false,
     "start_time": "2023-03-05T13:43:51.308111",
     "status": "completed"
    },
    "tags": []
   },
   "outputs": [
    {
     "data": {
      "text/plain": [
       "(array([[  0,   0,   0,   0,   0,   0,   0,   0,   0,   0,   0,   0,   0,\n",
       "           0,   0,   0,   0,   0,   0,   0,   0,   0,   0,   0,   0,   0,\n",
       "           0,   0],\n",
       "        [  0,   0,   0,   0,   0,   0,   0,   0,   0,   0,   0,   0,   0,\n",
       "           0,   0,   0,   0,   0,   0,   0,   0,   0,   0,   0,   0,   0,\n",
       "           0,   0],\n",
       "        [  0,   0,   0,   0,   0,   0,   0,   0,   0,   0,   0,   0,   0,\n",
       "           0,   0,   0,   0,   0,   0,   0,   0,   0,   0,   0,   0,   0,\n",
       "           0,   0],\n",
       "        [  0,   0,   0,   0,   0,   0,   0,   0,   0,   0,   0,   0,   1,\n",
       "           0,   0,  13,  73,   0,   0,   1,   4,   0,   0,   0,   0,   1,\n",
       "           1,   0],\n",
       "        [  0,   0,   0,   0,   0,   0,   0,   0,   0,   0,   0,   0,   3,\n",
       "           0,  36, 136, 127,  62,  54,   0,   0,   0,   1,   3,   4,   0,\n",
       "           0,   3],\n",
       "        [  0,   0,   0,   0,   0,   0,   0,   0,   0,   0,   0,   0,   6,\n",
       "           0, 102, 204, 176, 134, 144, 123,  23,   0,   0,   0,   0,  12,\n",
       "          10,   0],\n",
       "        [  0,   0,   0,   0,   0,   0,   0,   0,   0,   0,   0,   0,   0,\n",
       "           0, 155, 236, 207, 178, 107, 156, 161, 109,  64,  23,  77, 130,\n",
       "          72,  15],\n",
       "        [  0,   0,   0,   0,   0,   0,   0,   0,   0,   0,   0,   1,   0,\n",
       "          69, 207, 223, 218, 216, 216, 163, 127, 121, 122, 146, 141,  88,\n",
       "         172,  66],\n",
       "        [  0,   0,   0,   0,   0,   0,   0,   0,   0,   1,   1,   1,   0,\n",
       "         200, 232, 232, 233, 229, 223, 223, 215, 213, 164, 127, 123, 196,\n",
       "         229,   0],\n",
       "        [  0,   0,   0,   0,   0,   0,   0,   0,   0,   0,   0,   0,   0,\n",
       "         183, 225, 216, 223, 228, 235, 227, 224, 222, 224, 221, 223, 245,\n",
       "         173,   0],\n",
       "        [  0,   0,   0,   0,   0,   0,   0,   0,   0,   0,   0,   0,   0,\n",
       "         193, 228, 218, 213, 198, 180, 212, 210, 211, 213, 223, 220, 243,\n",
       "         202,   0],\n",
       "        [  0,   0,   0,   0,   0,   0,   0,   0,   0,   1,   3,   0,  12,\n",
       "         219, 220, 212, 218, 192, 169, 227, 208, 218, 224, 212, 226, 197,\n",
       "         209,  52],\n",
       "        [  0,   0,   0,   0,   0,   0,   0,   0,   0,   0,   6,   0,  99,\n",
       "         244, 222, 220, 218, 203, 198, 221, 215, 213, 222, 220, 245, 119,\n",
       "         167,  56],\n",
       "        [  0,   0,   0,   0,   0,   0,   0,   0,   0,   4,   0,   0,  55,\n",
       "         236, 228, 230, 228, 240, 232, 213, 218, 223, 234, 217, 217, 209,\n",
       "          92,   0],\n",
       "        [  0,   0,   1,   4,   6,   7,   2,   0,   0,   0,   0,   0, 237,\n",
       "         226, 217, 223, 222, 219, 222, 221, 216, 223, 229, 215, 218, 255,\n",
       "          77,   0],\n",
       "        [  0,   3,   0,   0,   0,   0,   0,   0,   0,  62, 145, 204, 228,\n",
       "         207, 213, 221, 218, 208, 211, 218, 224, 223, 219, 215, 224, 244,\n",
       "         159,   0],\n",
       "        [  0,   0,   0,   0,  18,  44,  82, 107, 189, 228, 220, 222, 217,\n",
       "         226, 200, 205, 211, 230, 224, 234, 176, 188, 250, 248, 233, 238,\n",
       "         215,   0],\n",
       "        [  0,  57, 187, 208, 224, 221, 224, 208, 204, 214, 208, 209, 200,\n",
       "         159, 245, 193, 206, 223, 255, 255, 221, 234, 221, 211, 220, 232,\n",
       "         246,   0],\n",
       "        [  3, 202, 228, 224, 221, 211, 211, 214, 205, 205, 205, 220, 240,\n",
       "          80, 150, 255, 229, 221, 188, 154, 191, 210, 204, 209, 222, 228,\n",
       "         225,   0],\n",
       "        [ 98, 233, 198, 210, 222, 229, 229, 234, 249, 220, 194, 215, 217,\n",
       "         241,  65,  73, 106, 117, 168, 219, 221, 215, 217, 223, 223, 224,\n",
       "         229,  29],\n",
       "        [ 75, 204, 212, 204, 193, 205, 211, 225, 216, 185, 197, 206, 198,\n",
       "         213, 240, 195, 227, 245, 239, 223, 218, 212, 209, 222, 220, 221,\n",
       "         230,  67],\n",
       "        [ 48, 203, 183, 194, 213, 197, 185, 190, 194, 192, 202, 214, 219,\n",
       "         221, 220, 236, 225, 216, 199, 206, 186, 181, 177, 172, 181, 205,\n",
       "         206, 115],\n",
       "        [  0, 122, 219, 193, 179, 171, 183, 196, 204, 210, 213, 207, 211,\n",
       "         210, 200, 196, 194, 191, 195, 191, 198, 192, 176, 156, 167, 177,\n",
       "         210,  92],\n",
       "        [  0,   0,  74, 189, 212, 191, 175, 172, 175, 181, 185, 188, 189,\n",
       "         188, 193, 198, 204, 209, 210, 210, 211, 188, 188, 194, 192, 216,\n",
       "         170,   0],\n",
       "        [  2,   0,   0,   0,  66, 200, 222, 237, 239, 242, 246, 243, 244,\n",
       "         221, 220, 193, 191, 179, 182, 182, 181, 176, 166, 168,  99,  58,\n",
       "           0,   0],\n",
       "        [  0,   0,   0,   0,   0,   0,   0,  40,  61,  44,  72,  41,  35,\n",
       "           0,   0,   0,   0,   0,   0,   0,   0,   0,   0,   0,   0,   0,\n",
       "           0,   0],\n",
       "        [  0,   0,   0,   0,   0,   0,   0,   0,   0,   0,   0,   0,   0,\n",
       "           0,   0,   0,   0,   0,   0,   0,   0,   0,   0,   0,   0,   0,\n",
       "           0,   0],\n",
       "        [  0,   0,   0,   0,   0,   0,   0,   0,   0,   0,   0,   0,   0,\n",
       "           0,   0,   0,   0,   0,   0,   0,   0,   0,   0,   0,   0,   0,\n",
       "           0,   0]], dtype=uint8),\n",
       " 9)"
      ]
     },
     "execution_count": 4,
     "metadata": {},
     "output_type": "execute_result"
    }
   ],
   "source": [
    "train_images[0, :, :], train_labels[0]"
   ]
  },
  {
   "cell_type": "code",
   "execution_count": 5,
   "id": "ee00b71e",
   "metadata": {
    "execution": {
     "iopub.execute_input": "2023-03-05T13:43:51.364471Z",
     "iopub.status.busy": "2023-03-05T13:43:51.363716Z",
     "iopub.status.idle": "2023-03-05T13:43:53.525568Z",
     "shell.execute_reply": "2023-03-05T13:43:53.524444Z"
    },
    "papermill": {
     "duration": 2.179901,
     "end_time": "2023-03-05T13:43:53.528183",
     "exception": false,
     "start_time": "2023-03-05T13:43:51.348282",
     "status": "completed"
    },
    "tags": []
   },
   "outputs": [
    {
     "data": {
      "image/png": "[encoded data removed]",
      "text/plain": [
       "<Figure size 2200x600 with 8 Axes>"
      ]
     },
     "metadata": {},
     "output_type": "display_data"
    },
    {
     "data": {
      "image/png": "[encoded data removed]",
      "text/plain": [
       "<Figure size 2200x600 with 8 Axes>"
      ]
     },
     "metadata": {},
     "output_type": "display_data"
    }
   ],
   "source": [
    "import matplotlib.pyplot as plt\n",
    "%matplotlib inline \n",
    "\n",
    "class_names = ['T-shirt/top', 'Trouser', 'Pullover', 'Dress', 'Coat','Sandal', 'Shirt', 'Sneaker', 'Bag', 'Ankle boot']\n",
    "\n",
    "def show_images(images, labels, ncols=8):\n",
    "    figure, axs = plt.subplots(figsize=(22, 6), nrows=1, ncols=ncols) #nrows=1줄\n",
    "    for i in range(ncols):\n",
    "        axs[i].imshow(images[i], cmap='gray')\n",
    "        axs[i].set_title(class_names[labels[i]])\n",
    "        \n",
    "show_images(train_images[:8], train_labels[:8], ncols=8)\n",
    "show_images(train_images[8:16], train_labels[8:16], ncols=8)"
   ]
  },
  {
   "cell_type": "markdown",
   "id": "3451e1e2",
   "metadata": {
    "papermill": {
     "duration": 0.014981,
     "end_time": "2023-03-05T13:43:53.559346",
     "exception": false,
     "start_time": "2023-03-05T13:43:53.544365",
     "status": "completed"
    },
    "tags": []
   },
   "source": [
    "### 데이터 전처리 수행. \n",
    "* 0 ~ 255 사이의 픽셀값을 0 ~ 1 사이 값으로 변환. \n",
    "* array type은 float 32"
   ]
  },
  {
   "cell_type": "code",
   "execution_count": 6,
   "id": "c78f85f4",
   "metadata": {
    "execution": {
     "iopub.execute_input": "2023-03-05T13:43:53.592682Z",
     "iopub.status.busy": "2023-03-05T13:43:53.592231Z",
     "iopub.status.idle": "2023-03-05T13:43:54.264999Z",
     "shell.execute_reply": "2023-03-05T13:43:54.263540Z"
    },
    "papermill": {
     "duration": 0.693378,
     "end_time": "2023-03-05T13:43:54.267855",
     "exception": false,
     "start_time": "2023-03-05T13:43:53.574477",
     "status": "completed"
    },
    "tags": []
   },
   "outputs": [
    {
     "name": "stdout",
     "output_type": "stream",
     "text": [
      "train dataset shape: (60000, 28, 28) (60000,)\n",
      "test dataset shape: (10000, 28, 28) (10000,)\n"
     ]
    }
   ],
   "source": [
    "(train_images, train_labels), (test_images, test_labels) = fashion_mnist.load_data()\n",
    "\n",
    "def get_preprocessed_data(images, labels):\n",
    "    \n",
    "    # 학습과 테스트 이미지 array를 0~1 사이값으로 scale 및 float32 형 변형. \n",
    "    images = np.array(images/255.0, dtype=np.float32)\n",
    "    labels = np.array(labels, dtype=np.float32)\n",
    "    \n",
    "    return images, labels\n",
    "\n",
    "train_images, train_labels = get_preprocessed_data(train_images, train_labels)\n",
    "test_images, test_labels = get_preprocessed_data(test_images, test_labels)\n",
    "\n",
    "print(\"train dataset shape:\", train_images.shape, train_labels.shape)\n",
    "print(\"test dataset shape:\", test_images.shape, test_labels.shape)\n"
   ]
  },
  {
   "cell_type": "code",
   "execution_count": 7,
   "id": "1904e177",
   "metadata": {
    "collapsed": true,
    "execution": {
     "iopub.execute_input": "2023-03-05T13:43:54.300488Z",
     "iopub.status.busy": "2023-03-05T13:43:54.299409Z",
     "iopub.status.idle": "2023-03-05T13:43:54.314073Z",
     "shell.execute_reply": "2023-03-05T13:43:54.312824Z"
    },
    "jupyter": {
     "outputs_hidden": true
    },
    "papermill": {
     "duration": 0.03379,
     "end_time": "2023-03-05T13:43:54.317198",
     "exception": false,
     "start_time": "2023-03-05T13:43:54.283408",
     "status": "completed"
    },
    "tags": []
   },
   "outputs": [
    {
     "data": {
      "text/plain": [
       "array([[0.        , 0.        , 0.        , 0.        , 0.        ,\n",
       "        0.        , 0.        , 0.        , 0.        , 0.        ,\n",
       "        0.        , 0.        , 0.        , 0.        , 0.        ,\n",
       "        0.        , 0.        , 0.        , 0.        , 0.        ,\n",
       "        0.        , 0.        , 0.        , 0.        , 0.        ,\n",
       "        0.        , 0.        , 0.        ],\n",
       "       [0.        , 0.        , 0.        , 0.        , 0.        ,\n",
       "        0.        , 0.        , 0.        , 0.        , 0.        ,\n",
       "        0.        , 0.        , 0.        , 0.        , 0.        ,\n",
       "        0.        , 0.        , 0.        , 0.        , 0.        ,\n",
       "        0.        , 0.        , 0.        , 0.        , 0.        ,\n",
       "        0.        , 0.        , 0.        ],\n",
       "       [0.        , 0.        , 0.        , 0.        , 0.        ,\n",
       "        0.        , 0.        , 0.        , 0.        , 0.        ,\n",
       "        0.        , 0.        , 0.        , 0.        , 0.        ,\n",
       "        0.        , 0.        , 0.        , 0.        , 0.        ,\n",
       "        0.        , 0.        , 0.        , 0.        , 0.        ,\n",
       "        0.        , 0.        , 0.        ],\n",
       "       [0.        , 0.        , 0.        , 0.        , 0.        ,\n",
       "        0.        , 0.        , 0.        , 0.        , 0.        ,\n",
       "        0.        , 0.        , 0.00392157, 0.        , 0.        ,\n",
       "        0.05098039, 0.28627452, 0.        , 0.        , 0.00392157,\n",
       "        0.01568628, 0.        , 0.        , 0.        , 0.        ,\n",
       "        0.00392157, 0.00392157, 0.        ],\n",
       "       [0.        , 0.        , 0.        , 0.        , 0.        ,\n",
       "        0.        , 0.        , 0.        , 0.        , 0.        ,\n",
       "        0.        , 0.        , 0.01176471, 0.        , 0.14117648,\n",
       "        0.53333336, 0.49803922, 0.24313726, 0.21176471, 0.        ,\n",
       "        0.        , 0.        , 0.00392157, 0.01176471, 0.01568628,\n",
       "        0.        , 0.        , 0.01176471],\n",
       "       [0.        , 0.        , 0.        , 0.        , 0.        ,\n",
       "        0.        , 0.        , 0.        , 0.        , 0.        ,\n",
       "        0.        , 0.        , 0.02352941, 0.        , 0.4       ,\n",
       "        0.8       , 0.6901961 , 0.5254902 , 0.5647059 , 0.48235294,\n",
       "        0.09019608, 0.        , 0.        , 0.        , 0.        ,\n",
       "        0.04705882, 0.03921569, 0.        ],\n",
       "       [0.        , 0.        , 0.        , 0.        , 0.        ,\n",
       "        0.        , 0.        , 0.        , 0.        , 0.        ,\n",
       "        0.        , 0.        , 0.        , 0.        , 0.60784316,\n",
       "        0.9254902 , 0.8117647 , 0.69803923, 0.41960785, 0.6117647 ,\n",
       "        0.6313726 , 0.42745098, 0.2509804 , 0.09019608, 0.3019608 ,\n",
       "        0.50980395, 0.28235295, 0.05882353],\n",
       "       [0.        , 0.        , 0.        , 0.        , 0.        ,\n",
       "        0.        , 0.        , 0.        , 0.        , 0.        ,\n",
       "        0.        , 0.00392157, 0.        , 0.27058825, 0.8117647 ,\n",
       "        0.8745098 , 0.85490197, 0.84705883, 0.84705883, 0.6392157 ,\n",
       "        0.49803922, 0.4745098 , 0.47843137, 0.57254905, 0.5529412 ,\n",
       "        0.34509805, 0.6745098 , 0.25882354],\n",
       "       [0.        , 0.        , 0.        , 0.        , 0.        ,\n",
       "        0.        , 0.        , 0.        , 0.        , 0.00392157,\n",
       "        0.00392157, 0.00392157, 0.        , 0.78431374, 0.9098039 ,\n",
       "        0.9098039 , 0.9137255 , 0.8980392 , 0.8745098 , 0.8745098 ,\n",
       "        0.84313726, 0.8352941 , 0.6431373 , 0.49803922, 0.48235294,\n",
       "        0.76862746, 0.8980392 , 0.        ],\n",
       "       [0.        , 0.        , 0.        , 0.        , 0.        ,\n",
       "        0.        , 0.        , 0.        , 0.        , 0.        ,\n",
       "        0.        , 0.        , 0.        , 0.7176471 , 0.88235295,\n",
       "        0.84705883, 0.8745098 , 0.89411765, 0.92156863, 0.8901961 ,\n",
       "        0.8784314 , 0.87058824, 0.8784314 , 0.8666667 , 0.8745098 ,\n",
       "        0.9607843 , 0.6784314 , 0.        ],\n",
       "       [0.        , 0.        , 0.        , 0.        , 0.        ,\n",
       "        0.        , 0.        , 0.        , 0.        , 0.        ,\n",
       "        0.        , 0.        , 0.        , 0.75686276, 0.89411765,\n",
       "        0.85490197, 0.8352941 , 0.7764706 , 0.7058824 , 0.83137256,\n",
       "        0.8235294 , 0.827451  , 0.8352941 , 0.8745098 , 0.8627451 ,\n",
       "        0.9529412 , 0.7921569 , 0.        ],\n",
       "       [0.        , 0.        , 0.        , 0.        , 0.        ,\n",
       "        0.        , 0.        , 0.        , 0.        , 0.00392157,\n",
       "        0.01176471, 0.        , 0.04705882, 0.85882354, 0.8627451 ,\n",
       "        0.83137256, 0.85490197, 0.7529412 , 0.6627451 , 0.8901961 ,\n",
       "        0.8156863 , 0.85490197, 0.8784314 , 0.83137256, 0.8862745 ,\n",
       "        0.77254903, 0.81960785, 0.20392157],\n",
       "       [0.        , 0.        , 0.        , 0.        , 0.        ,\n",
       "        0.        , 0.        , 0.        , 0.        , 0.        ,\n",
       "        0.02352941, 0.        , 0.3882353 , 0.95686275, 0.87058824,\n",
       "        0.8627451 , 0.85490197, 0.79607844, 0.7764706 , 0.8666667 ,\n",
       "        0.84313726, 0.8352941 , 0.87058824, 0.8627451 , 0.9607843 ,\n",
       "        0.46666667, 0.654902  , 0.21960784],\n",
       "       [0.        , 0.        , 0.        , 0.        , 0.        ,\n",
       "        0.        , 0.        , 0.        , 0.        , 0.01568628,\n",
       "        0.        , 0.        , 0.21568628, 0.9254902 , 0.89411765,\n",
       "        0.9019608 , 0.89411765, 0.9411765 , 0.9098039 , 0.8352941 ,\n",
       "        0.85490197, 0.8745098 , 0.91764706, 0.8509804 , 0.8509804 ,\n",
       "        0.81960785, 0.36078432, 0.        ],\n",
       "       [0.        , 0.        , 0.00392157, 0.01568628, 0.02352941,\n",
       "        0.02745098, 0.00784314, 0.        , 0.        , 0.        ,\n",
       "        0.        , 0.        , 0.92941177, 0.8862745 , 0.8509804 ,\n",
       "        0.8745098 , 0.87058824, 0.85882354, 0.87058824, 0.8666667 ,\n",
       "        0.84705883, 0.8745098 , 0.8980392 , 0.84313726, 0.85490197,\n",
       "        1.        , 0.3019608 , 0.        ],\n",
       "       [0.        , 0.01176471, 0.        , 0.        , 0.        ,\n",
       "        0.        , 0.        , 0.        , 0.        , 0.24313726,\n",
       "        0.5686275 , 0.8       , 0.89411765, 0.8117647 , 0.8352941 ,\n",
       "        0.8666667 , 0.85490197, 0.8156863 , 0.827451  , 0.85490197,\n",
       "        0.8784314 , 0.8745098 , 0.85882354, 0.84313726, 0.8784314 ,\n",
       "        0.95686275, 0.62352943, 0.        ],\n",
       "       [0.        , 0.        , 0.        , 0.        , 0.07058824,\n",
       "        0.17254902, 0.32156864, 0.41960785, 0.7411765 , 0.89411765,\n",
       "        0.8627451 , 0.87058824, 0.8509804 , 0.8862745 , 0.78431374,\n",
       "        0.8039216 , 0.827451  , 0.9019608 , 0.8784314 , 0.91764706,\n",
       "        0.6901961 , 0.7372549 , 0.98039216, 0.972549  , 0.9137255 ,\n",
       "        0.93333334, 0.84313726, 0.        ],\n",
       "       [0.        , 0.22352941, 0.73333335, 0.8156863 , 0.8784314 ,\n",
       "        0.8666667 , 0.8784314 , 0.8156863 , 0.8       , 0.8392157 ,\n",
       "        0.8156863 , 0.81960785, 0.78431374, 0.62352943, 0.9607843 ,\n",
       "        0.75686276, 0.80784315, 0.8745098 , 1.        , 1.        ,\n",
       "        0.8666667 , 0.91764706, 0.8666667 , 0.827451  , 0.8627451 ,\n",
       "        0.9098039 , 0.9647059 , 0.        ],\n",
       "       [0.01176471, 0.7921569 , 0.89411765, 0.8784314 , 0.8666667 ,\n",
       "        0.827451  , 0.827451  , 0.8392157 , 0.8039216 , 0.8039216 ,\n",
       "        0.8039216 , 0.8627451 , 0.9411765 , 0.3137255 , 0.5882353 ,\n",
       "        1.        , 0.8980392 , 0.8666667 , 0.7372549 , 0.6039216 ,\n",
       "        0.7490196 , 0.8235294 , 0.8       , 0.81960785, 0.87058824,\n",
       "        0.89411765, 0.88235295, 0.        ],\n",
       "       [0.38431373, 0.9137255 , 0.7764706 , 0.8235294 , 0.87058824,\n",
       "        0.8980392 , 0.8980392 , 0.91764706, 0.9764706 , 0.8627451 ,\n",
       "        0.7607843 , 0.84313726, 0.8509804 , 0.94509804, 0.25490198,\n",
       "        0.28627452, 0.41568628, 0.45882353, 0.65882355, 0.85882354,\n",
       "        0.8666667 , 0.84313726, 0.8509804 , 0.8745098 , 0.8745098 ,\n",
       "        0.8784314 , 0.8980392 , 0.11372549],\n",
       "       [0.29411766, 0.8       , 0.83137256, 0.8       , 0.75686276,\n",
       "        0.8039216 , 0.827451  , 0.88235295, 0.84705883, 0.7254902 ,\n",
       "        0.77254903, 0.80784315, 0.7764706 , 0.8352941 , 0.9411765 ,\n",
       "        0.7647059 , 0.8901961 , 0.9607843 , 0.9372549 , 0.8745098 ,\n",
       "        0.85490197, 0.83137256, 0.81960785, 0.87058824, 0.8627451 ,\n",
       "        0.8666667 , 0.9019608 , 0.2627451 ],\n",
       "       [0.1882353 , 0.79607844, 0.7176471 , 0.7607843 , 0.8352941 ,\n",
       "        0.77254903, 0.7254902 , 0.74509805, 0.7607843 , 0.7529412 ,\n",
       "        0.7921569 , 0.8392157 , 0.85882354, 0.8666667 , 0.8627451 ,\n",
       "        0.9254902 , 0.88235295, 0.84705883, 0.78039217, 0.80784315,\n",
       "        0.7294118 , 0.70980394, 0.69411767, 0.6745098 , 0.70980394,\n",
       "        0.8039216 , 0.80784315, 0.4509804 ],\n",
       "       [0.        , 0.47843137, 0.85882354, 0.75686276, 0.7019608 ,\n",
       "        0.67058825, 0.7176471 , 0.76862746, 0.8       , 0.8235294 ,\n",
       "        0.8352941 , 0.8117647 , 0.827451  , 0.8235294 , 0.78431374,\n",
       "        0.76862746, 0.7607843 , 0.7490196 , 0.7647059 , 0.7490196 ,\n",
       "        0.7764706 , 0.7529412 , 0.6901961 , 0.6117647 , 0.654902  ,\n",
       "        0.69411767, 0.8235294 , 0.36078432],\n",
       "       [0.        , 0.        , 0.2901961 , 0.7411765 , 0.83137256,\n",
       "        0.7490196 , 0.6862745 , 0.6745098 , 0.6862745 , 0.70980394,\n",
       "        0.7254902 , 0.7372549 , 0.7411765 , 0.7372549 , 0.75686276,\n",
       "        0.7764706 , 0.8       , 0.81960785, 0.8235294 , 0.8235294 ,\n",
       "        0.827451  , 0.7372549 , 0.7372549 , 0.7607843 , 0.7529412 ,\n",
       "        0.84705883, 0.6666667 , 0.        ],\n",
       "       [0.00784314, 0.        , 0.        , 0.        , 0.25882354,\n",
       "        0.78431374, 0.87058824, 0.92941177, 0.9372549 , 0.9490196 ,\n",
       "        0.9647059 , 0.9529412 , 0.95686275, 0.8666667 , 0.8627451 ,\n",
       "        0.75686276, 0.7490196 , 0.7019608 , 0.7137255 , 0.7137255 ,\n",
       "        0.70980394, 0.6901961 , 0.6509804 , 0.65882355, 0.3882353 ,\n",
       "        0.22745098, 0.        , 0.        ],\n",
       "       [0.        , 0.        , 0.        , 0.        , 0.        ,\n",
       "        0.        , 0.        , 0.15686275, 0.23921569, 0.17254902,\n",
       "        0.28235295, 0.16078432, 0.13725491, 0.        , 0.        ,\n",
       "        0.        , 0.        , 0.        , 0.        , 0.        ,\n",
       "        0.        , 0.        , 0.        , 0.        , 0.        ,\n",
       "        0.        , 0.        , 0.        ],\n",
       "       [0.        , 0.        , 0.        , 0.        , 0.        ,\n",
       "        0.        , 0.        , 0.        , 0.        , 0.        ,\n",
       "        0.        , 0.        , 0.        , 0.        , 0.        ,\n",
       "        0.        , 0.        , 0.        , 0.        , 0.        ,\n",
       "        0.        , 0.        , 0.        , 0.        , 0.        ,\n",
       "        0.        , 0.        , 0.        ],\n",
       "       [0.        , 0.        , 0.        , 0.        , 0.        ,\n",
       "        0.        , 0.        , 0.        , 0.        , 0.        ,\n",
       "        0.        , 0.        , 0.        , 0.        , 0.        ,\n",
       "        0.        , 0.        , 0.        , 0.        , 0.        ,\n",
       "        0.        , 0.        , 0.        , 0.        , 0.        ,\n",
       "        0.        , 0.        , 0.        ]], dtype=float32)"
      ]
     },
     "execution_count": 7,
     "metadata": {},
     "output_type": "execute_result"
    }
   ],
   "source": [
    "train_images[0]"
   ]
  },
  {
   "cell_type": "markdown",
   "id": "d561f53b",
   "metadata": {
    "papermill": {
     "duration": 0.014672,
     "end_time": "2023-03-05T13:43:54.347585",
     "exception": false,
     "start_time": "2023-03-05T13:43:54.332913",
     "status": "completed"
    },
    "tags": []
   },
   "source": [
    "### Dense Layer를 기반으로 모델을 생성"
   ]
  },
  {
   "cell_type": "code",
   "execution_count": 8,
   "id": "7c1383d7",
   "metadata": {
    "execution": {
     "iopub.execute_input": "2023-03-05T13:43:54.384668Z",
     "iopub.status.busy": "2023-03-05T13:43:54.384250Z",
     "iopub.status.idle": "2023-03-05T13:43:54.389669Z",
     "shell.execute_reply": "2023-03-05T13:43:54.388387Z"
    },
    "papermill": {
     "duration": 0.029534,
     "end_time": "2023-03-05T13:43:54.392330",
     "exception": false,
     "start_time": "2023-03-05T13:43:54.362796",
     "status": "completed"
    },
    "tags": []
   },
   "outputs": [],
   "source": [
    "INPUT_SIZE = 28"
   ]
  },
  {
   "cell_type": "code",
   "execution_count": 9,
   "id": "681e3cc2",
   "metadata": {
    "execution": {
     "iopub.execute_input": "2023-03-05T13:43:54.426902Z",
     "iopub.status.busy": "2023-03-05T13:43:54.425839Z",
     "iopub.status.idle": "2023-03-05T13:43:59.767722Z",
     "shell.execute_reply": "2023-03-05T13:43:59.766821Z"
    },
    "papermill": {
     "duration": 5.371524,
     "end_time": "2023-03-05T13:43:59.780217",
     "exception": false,
     "start_time": "2023-03-05T13:43:54.408693",
     "status": "completed"
    },
    "tags": []
   },
   "outputs": [
    {
     "name": "stdout",
     "output_type": "stream",
     "text": [
      "Model: \"sequential\"\n",
      "_________________________________________________________________\n",
      " Layer (type)                Output Shape              Param #   \n",
      "=================================================================\n",
      " flatten (Flatten)           (None, 784)               0         \n",
      "                                                                 \n",
      " dense (Dense)               (None, 100)               78500     \n",
      "                                                                 \n",
      " dense_1 (Dense)             (None, 30)                3030      \n",
      "                                                                 \n",
      " dense_2 (Dense)             (None, 10)                310       \n",
      "                                                                 \n",
      "=================================================================\n",
      "Total params: 81,840\n",
      "Trainable params: 81,840\n",
      "Non-trainable params: 0\n",
      "_________________________________________________________________\n"
     ]
    }
   ],
   "source": [
    "from tensorflow.keras.layers import Dense, Flatten\n",
    "from tensorflow.keras.models import Sequential\n",
    "\n",
    "model = Sequential([ # Sequential하게 모델을 계속해서 만듦\n",
    "    Flatten(input_shape=(INPUT_SIZE, INPUT_SIZE)), # 28*28 gray scale로 들어오고 나면 784개 1차원으로 뭉게라 -> 784개의 feature\n",
    "    Dense(100, activation='relu'), #\n",
    "    Dense(30, activation='relu'),\n",
    "    Dense(10, activation='softmax')\n",
    "])\n",
    "\n",
    "model.summary()\n"
   ]
  },
  {
   "cell_type": "markdown",
   "id": "40691a2d",
   "metadata": {
    "papermill": {
     "duration": 0.016825,
     "end_time": "2023-03-05T13:43:59.814012",
     "exception": false,
     "start_time": "2023-03-05T13:43:59.797187",
     "status": "completed"
    },
    "tags": []
   },
   "source": [
    "### 모델의 Loss와 Optimizer 설정하고 학습 수행\n",
    "* loss는 categorical_crossentropy로, optimizer는 Adam으로 설정\n",
    "* categorical crossentropy를 위해서 Lable을 OHE 로 변경"
   ]
  },
  {
   "cell_type": "code",
   "execution_count": 10,
   "id": "aa43c4c0",
   "metadata": {
    "execution": {
     "iopub.execute_input": "2023-03-05T13:43:59.849701Z",
     "iopub.status.busy": "2023-03-05T13:43:59.848732Z",
     "iopub.status.idle": "2023-03-05T13:43:59.868713Z",
     "shell.execute_reply": "2023-03-05T13:43:59.867617Z"
    },
    "papermill": {
     "duration": 0.040558,
     "end_time": "2023-03-05T13:43:59.871229",
     "exception": false,
     "start_time": "2023-03-05T13:43:59.830671",
     "status": "completed"
    },
    "tags": []
   },
   "outputs": [],
   "source": [
    "from tensorflow.keras.optimizers import Adam\n",
    "from tensorflow.keras.losses import CategoricalCrossentropy\n",
    "from tensorflow.keras.metrics import Accuracy\n",
    "\n",
    "model.compile(optimizer=Adam(0.001), loss='categorical_crossentropy', metrics=['accuracy']) #categorical_crossentropy : one-hot encoding한 것"
   ]
  },
  {
   "cell_type": "code",
   "execution_count": 11,
   "id": "73ef20e2",
   "metadata": {
    "execution": {
     "iopub.execute_input": "2023-03-05T13:43:59.907139Z",
     "iopub.status.busy": "2023-03-05T13:43:59.905935Z",
     "iopub.status.idle": "2023-03-05T13:43:59.916814Z",
     "shell.execute_reply": "2023-03-05T13:43:59.914996Z"
    },
    "papermill": {
     "duration": 0.032168,
     "end_time": "2023-03-05T13:43:59.920058",
     "exception": false,
     "start_time": "2023-03-05T13:43:59.887890",
     "status": "completed"
    },
    "tags": []
   },
   "outputs": [
    {
     "name": "stdout",
     "output_type": "stream",
     "text": [
      "(60000, 10) (10000, 10)\n"
     ]
    }
   ],
   "source": [
    "from tensorflow.keras.utils import to_categorical\n",
    "\n",
    "train_oh_labels = to_categorical(train_labels) #one-hot encoding --> 2차원으로 바뀜\n",
    "test_oh_labels = to_categorical(test_labels)\n",
    "\n",
    "print(train_oh_labels.shape, test_oh_labels.shape)"
   ]
  },
  {
   "cell_type": "code",
   "execution_count": 12,
   "id": "653e0ecb",
   "metadata": {
    "execution": {
     "iopub.execute_input": "2023-03-05T13:43:59.957625Z",
     "iopub.status.busy": "2023-03-05T13:43:59.956424Z",
     "iopub.status.idle": "2023-03-05T13:43:59.964731Z",
     "shell.execute_reply": "2023-03-05T13:43:59.963528Z"
    },
    "papermill": {
     "duration": 0.029489,
     "end_time": "2023-03-05T13:43:59.967100",
     "exception": false,
     "start_time": "2023-03-05T13:43:59.937611",
     "status": "completed"
    },
    "tags": []
   },
   "outputs": [
    {
     "data": {
      "text/plain": [
       "(60000, 28, 28)"
      ]
     },
     "execution_count": 12,
     "metadata": {},
     "output_type": "execute_result"
    }
   ],
   "source": [
    "train_images.shape #(60000개의 이미지, 28*28)"
   ]
  },
  {
   "cell_type": "code",
   "execution_count": 13,
   "id": "1719355c",
   "metadata": {
    "execution": {
     "iopub.execute_input": "2023-03-05T13:44:00.002928Z",
     "iopub.status.busy": "2023-03-05T13:44:00.001913Z",
     "iopub.status.idle": "2023-03-05T13:46:23.312202Z",
     "shell.execute_reply": "2023-03-05T13:46:23.311034Z"
    },
    "papermill": {
     "duration": 143.330826,
     "end_time": "2023-03-05T13:46:23.314863",
     "exception": false,
     "start_time": "2023-03-05T13:43:59.984037",
     "status": "completed"
    },
    "tags": []
   },
   "outputs": [
    {
     "name": "stdout",
     "output_type": "stream",
     "text": [
      "Epoch 1/20\n",
      "1875/1875 [==============================] - 13s 4ms/step - loss: 0.5119 - accuracy: 0.8207\n",
      "Epoch 2/20\n",
      "1875/1875 [==============================] - 6s 3ms/step - loss: 0.3786 - accuracy: 0.8638\n",
      "Epoch 3/20\n",
      "1875/1875 [==============================] - 6s 3ms/step - loss: 0.3413 - accuracy: 0.8760\n",
      "Epoch 4/20\n",
      "1875/1875 [==============================] - 6s 3ms/step - loss: 0.3176 - accuracy: 0.8825\n",
      "Epoch 5/20\n",
      "1875/1875 [==============================] - 6s 3ms/step - loss: 0.2990 - accuracy: 0.8904\n",
      "Epoch 6/20\n",
      "1875/1875 [==============================] - 7s 4ms/step - loss: 0.2871 - accuracy: 0.8919\n",
      "Epoch 7/20\n",
      "1875/1875 [==============================] - 6s 3ms/step - loss: 0.2735 - accuracy: 0.8982\n",
      "Epoch 8/20\n",
      "1875/1875 [==============================] - 6s 3ms/step - loss: 0.2648 - accuracy: 0.9009\n",
      "Epoch 9/20\n",
      "1875/1875 [==============================] - 6s 3ms/step - loss: 0.2533 - accuracy: 0.9062\n",
      "Epoch 10/20\n",
      "1875/1875 [==============================] - 6s 3ms/step - loss: 0.2454 - accuracy: 0.9083\n",
      "Epoch 11/20\n",
      "1875/1875 [==============================] - 7s 4ms/step - loss: 0.2372 - accuracy: 0.9105\n",
      "Epoch 12/20\n",
      "1875/1875 [==============================] - 6s 3ms/step - loss: 0.2312 - accuracy: 0.9129\n",
      "Epoch 13/20\n",
      "1875/1875 [==============================] - 6s 3ms/step - loss: 0.2251 - accuracy: 0.9150\n",
      "Epoch 14/20\n",
      "1875/1875 [==============================] - 6s 3ms/step - loss: 0.2194 - accuracy: 0.9171\n",
      "Epoch 15/20\n",
      "1875/1875 [==============================] - 6s 3ms/step - loss: 0.2132 - accuracy: 0.9186\n",
      "Epoch 16/20\n",
      "1875/1875 [==============================] - 7s 4ms/step - loss: 0.2065 - accuracy: 0.9222\n",
      "Epoch 17/20\n",
      "1875/1875 [==============================] - 6s 3ms/step - loss: 0.2021 - accuracy: 0.9246\n",
      "Epoch 18/20\n",
      "1875/1875 [==============================] - 6s 3ms/step - loss: 0.1959 - accuracy: 0.9254\n",
      "Epoch 19/20\n",
      "1875/1875 [==============================] - 6s 3ms/step - loss: 0.1931 - accuracy: 0.9263\n",
      "Epoch 20/20\n",
      "1875/1875 [==============================] - 6s 3ms/step - loss: 0.1896 - accuracy: 0.9278\n"
     ]
    }
   ],
   "source": [
    "history = model.fit(x=train_images, y=train_oh_labels, batch_size=32, epochs=20, verbose=1)"
   ]
  },
  {
   "cell_type": "code",
   "execution_count": 14,
   "id": "ab7e8d47",
   "metadata": {
    "execution": {
     "iopub.execute_input": "2023-03-05T13:46:23.622017Z",
     "iopub.status.busy": "2023-03-05T13:46:23.620934Z",
     "iopub.status.idle": "2023-03-05T13:46:23.629557Z",
     "shell.execute_reply": "2023-03-05T13:46:23.628513Z"
    },
    "papermill": {
     "duration": 0.16504,
     "end_time": "2023-03-05T13:46:23.631844",
     "exception": false,
     "start_time": "2023-03-05T13:46:23.466804",
     "status": "completed"
    },
    "tags": []
   },
   "outputs": [
    {
     "name": "stdout",
     "output_type": "stream",
     "text": [
      "[0.5119072198867798, 0.37857863306999207, 0.3413039743900299, 0.31760358810424805, 0.29899582266807556, 0.28713470697402954, 0.2735237777233124, 0.26482513546943665, 0.25327417254447937, 0.24541157484054565, 0.23724037408828735, 0.23121611773967743, 0.22509725391864777, 0.21942757070064545, 0.21316534280776978, 0.20647311210632324, 0.2020616978406906, 0.19592969119548798, 0.1931285709142685, 0.18958613276481628]\n",
      "[0.8207499980926514, 0.8637833595275879, 0.8760333061218262, 0.8825333118438721, 0.8903833627700806, 0.8919000029563904, 0.8981999754905701, 0.9009333252906799, 0.9061999917030334, 0.9082833528518677, 0.9104666709899902, 0.9129499793052673, 0.914983332157135, 0.9170666933059692, 0.9186000227928162, 0.9222166538238525, 0.9246000051498413, 0.92535001039505, 0.9263333082199097, 0.9278333187103271]\n"
     ]
    }
   ],
   "source": [
    "print(history.history['loss'])\n",
    "print(history.history['accuracy'])\n"
   ]
  },
  {
   "cell_type": "markdown",
   "id": "833ba24f",
   "metadata": {
    "papermill": {
     "duration": 0.156315,
     "end_time": "2023-03-05T13:46:23.942646",
     "exception": false,
     "start_time": "2023-03-05T13:46:23.786331",
     "status": "completed"
    },
    "tags": []
   },
   "source": [
    "### 테스트 데이터를 기반으로 Label 값 예측\n",
    "* model.predict()를 이용하여 label값 예측\n",
    "* predict()의 인자로 입력되는 feature array는 학습의 feature array와 shape가 동일해야함. \n",
    "* fit() 시 3차원(28x28 2차원 array가 여러개 존재) array 입력 했으므로 predict()도 동일한 3차원 데이터 입력\n",
    "* 특히 한건만 predict() 할때도 3차원 데이터여야 함. 이를 위해 expand_dims()로 2차원 image 배열을 3차원으로 변경"
   ]
  },
  {
   "cell_type": "code",
   "execution_count": 15,
   "id": "4824f143",
   "metadata": {
    "execution": {
     "iopub.execute_input": "2023-03-05T13:46:24.317986Z",
     "iopub.status.busy": "2023-03-05T13:46:24.316895Z",
     "iopub.status.idle": "2023-03-05T13:46:24.324672Z",
     "shell.execute_reply": "2023-03-05T13:46:24.323517Z"
    },
    "papermill": {
     "duration": 0.165272,
     "end_time": "2023-03-05T13:46:24.327393",
     "exception": false,
     "start_time": "2023-03-05T13:46:24.162121",
     "status": "completed"
    },
    "tags": []
   },
   "outputs": [
    {
     "data": {
      "text/plain": [
       "(10000, 28, 28)"
      ]
     },
     "execution_count": 15,
     "metadata": {},
     "output_type": "execute_result"
    }
   ],
   "source": [
    "test_images.shape #3차원"
   ]
  },
  {
   "cell_type": "code",
   "execution_count": 16,
   "id": "ad2c2100",
   "metadata": {
    "execution": {
     "iopub.execute_input": "2023-03-05T13:46:24.634542Z",
     "iopub.status.busy": "2023-03-05T13:46:24.634109Z",
     "iopub.status.idle": "2023-03-05T13:46:26.109249Z",
     "shell.execute_reply": "2023-03-05T13:46:26.107951Z"
    },
    "papermill": {
     "duration": 1.634041,
     "end_time": "2023-03-05T13:46:26.111763",
     "exception": false,
     "start_time": "2023-03-05T13:46:24.477722",
     "status": "completed"
    },
    "tags": []
   },
   "outputs": [
    {
     "name": "stdout",
     "output_type": "stream",
     "text": [
      "313/313 [==============================] - 1s 2ms/step\n",
      "(10000, 10)\n"
     ]
    }
   ],
   "source": [
    "pred_proba = model.predict(test_images)\n",
    "print(pred_proba.shape)"
   ]
  },
  {
   "cell_type": "code",
   "execution_count": 17,
   "id": "5daeeec4",
   "metadata": {
    "execution": {
     "iopub.execute_input": "2023-03-05T13:46:26.430520Z",
     "iopub.status.busy": "2023-03-05T13:46:26.430103Z",
     "iopub.status.idle": "2023-03-05T13:46:26.438040Z",
     "shell.execute_reply": "2023-03-05T13:46:26.436925Z"
    },
    "papermill": {
     "duration": 0.171604,
     "end_time": "2023-03-05T13:46:26.440783",
     "exception": false,
     "start_time": "2023-03-05T13:46:26.269179",
     "status": "completed"
    },
    "tags": []
   },
   "outputs": [
    {
     "data": {
      "text/plain": [
       "(1, 28, 28)"
      ]
     },
     "execution_count": 17,
     "metadata": {},
     "output_type": "execute_result"
    }
   ],
   "source": [
    "np.expand_dims(test_images[0], axis=0).shape # test_images[0] : 2차원(28,28) --> 3차원으로 넣어서 예측해주어야 함 // axis=0 : 맨 앞에 차원 추가"
   ]
  },
  {
   "cell_type": "code",
   "execution_count": 18,
   "id": "d6a219eb",
   "metadata": {
    "execution": {
     "iopub.execute_input": "2023-03-05T13:46:26.767029Z",
     "iopub.status.busy": "2023-03-05T13:46:26.765983Z",
     "iopub.status.idle": "2023-03-05T13:46:26.853303Z",
     "shell.execute_reply": "2023-03-05T13:46:26.851689Z"
    },
    "papermill": {
     "duration": 0.255284,
     "end_time": "2023-03-05T13:46:26.855751",
     "exception": false,
     "start_time": "2023-03-05T13:46:26.600467",
     "status": "completed"
    },
    "tags": []
   },
   "outputs": [
    {
     "name": "stdout",
     "output_type": "stream",
     "text": [
      "1/1 [==============================] - 0s 32ms/step\n",
      "softmax output: [[7.3134818e-09 1.6580196e-11 1.2194268e-10 4.0335492e-11 2.6359977e-08\n",
      "  8.5542467e-04 1.3895476e-08 9.5045060e-02 3.0441047e-09 9.0409946e-01]]\n",
      "predicted class value: 9\n"
     ]
    }
   ],
   "source": [
    "pred_proba = model.predict(np.expand_dims(test_images[0], axis=0))\n",
    "print('softmax output:', pred_proba)\n",
    "pred = np.argmax(np.squeeze(pred_proba)) #np.squeeze : 다시 차원 축소\n",
    "print('predicted class value:', pred)\n"
   ]
  },
  {
   "cell_type": "code",
   "execution_count": 19,
   "id": "8cccc474",
   "metadata": {
    "execution": {
     "iopub.execute_input": "2023-03-05T13:46:27.177372Z",
     "iopub.status.busy": "2023-03-05T13:46:27.176348Z",
     "iopub.status.idle": "2023-03-05T13:46:27.183761Z",
     "shell.execute_reply": "2023-03-05T13:46:27.182364Z"
    },
    "papermill": {
     "duration": 0.167731,
     "end_time": "2023-03-05T13:46:27.186082",
     "exception": false,
     "start_time": "2023-03-05T13:46:27.018351",
     "status": "completed"
    },
    "tags": []
   },
   "outputs": [
    {
     "name": "stdout",
     "output_type": "stream",
     "text": [
      "target class value: 9.0 predicted class value: 9\n"
     ]
    }
   ],
   "source": [
    "class_names = ['T-shirt/top', 'Trouser', 'Pullover', 'Dress', 'Coat','Sandal', 'Shirt', 'Sneaker', 'Bag', 'Ankle boot']\n",
    "print('target class value:', test_labels[0], 'predicted class value:', pred)"
   ]
  },
  {
   "cell_type": "markdown",
   "id": "2a78011a",
   "metadata": {
    "papermill": {
     "duration": 0.152356,
     "end_time": "2023-03-05T13:46:27.500286",
     "exception": false,
     "start_time": "2023-03-05T13:46:27.347930",
     "status": "completed"
    },
    "tags": []
   },
   "source": [
    "### 테스트 데이터 세트로 모델 성능 검증"
   ]
  },
  {
   "cell_type": "code",
   "execution_count": 20,
   "id": "066a61ee",
   "metadata": {
    "execution": {
     "iopub.execute_input": "2023-03-05T13:46:27.869522Z",
     "iopub.status.busy": "2023-03-05T13:46:27.869112Z",
     "iopub.status.idle": "2023-03-05T13:46:28.761789Z",
     "shell.execute_reply": "2023-03-05T13:46:28.760541Z"
    },
    "papermill": {
     "duration": 1.061194,
     "end_time": "2023-03-05T13:46:28.764615",
     "exception": false,
     "start_time": "2023-03-05T13:46:27.703421",
     "status": "completed"
    },
    "tags": []
   },
   "outputs": [
    {
     "name": "stdout",
     "output_type": "stream",
     "text": [
      "157/157 [==============================] - 1s 3ms/step - loss: 0.3876 - accuracy: 0.8793\n"
     ]
    },
    {
     "data": {
      "text/plain": [
       "[0.3876238763332367, 0.8792999982833862]"
      ]
     },
     "execution_count": 20,
     "metadata": {},
     "output_type": "execute_result"
    }
   ],
   "source": [
    "model.evaluate(test_images, test_oh_labels, batch_size=64)"
   ]
  },
  {
   "cell_type": "code",
   "execution_count": null,
   "id": "c2f2a6e6",
   "metadata": {
    "papermill": {
     "duration": 0.160254,
     "end_time": "2023-03-05T13:46:29.088432",
     "exception": false,
     "start_time": "2023-03-05T13:46:28.928178",
     "status": "completed"
    },
    "tags": []
   },
   "outputs": [],
   "source": []
  },
  {
   "cell_type": "markdown",
   "id": "4f100691",
   "metadata": {
    "papermill": {
     "duration": 0.167234,
     "end_time": "2023-03-05T13:46:29.408347",
     "exception": false,
     "start_time": "2023-03-05T13:46:29.241113",
     "status": "completed"
    },
    "tags": []
   },
   "source": [
    "### 검증 데이터 세트를 이용하여 학습 수행. \n",
    "* 일반적으로 fit() 수행시 별도의 검증 데이터 세트를 이용하여 학습 시 과적합(Overfitting)이 발생하는지 모니터링\n",
    "* fit()을 수행하면 iteration을 반복하기 때문에 중간에 하이퍼파라미터 변경(예: Learning Rate)등의 작업이 어려움. \n",
    "* fit() iteration시 여러 작업을 하기 위해 Callback 객체를 가짐. \n",
    "* 검증 데이터 세트를 fit() 시 적용하여 과적합이나 더이상 검증 데이터 성능이 좋아 지지 않을 때 Callback을 사용하여 Learning Rate 보정 작업등을 수행 가능"
   ]
  },
  {
   "cell_type": "code",
   "execution_count": 21,
   "id": "e673f84b",
   "metadata": {
    "execution": {
     "iopub.execute_input": "2023-03-05T13:46:29.901127Z",
     "iopub.status.busy": "2023-03-05T13:46:29.900669Z",
     "iopub.status.idle": "2023-03-05T13:46:30.582394Z",
     "shell.execute_reply": "2023-03-05T13:46:30.581158Z"
    },
    "papermill": {
     "duration": 0.920992,
     "end_time": "2023-03-05T13:46:30.585188",
     "exception": false,
     "start_time": "2023-03-05T13:46:29.664196",
     "status": "completed"
    },
    "tags": []
   },
   "outputs": [],
   "source": [
    "import numpy as np \n",
    "import pandas as pd\n",
    "from tensorflow.keras.datasets import fashion_mnist\n",
    "\n",
    "(train_images, train_labels), (test_images, test_labels) = fashion_mnist.load_data()\n",
    "\n",
    "def get_preprocessed_data(images, labels):\n",
    "    \n",
    "    # 학습과 테스트 이미지 array를 0~1 사이값으로 scale 및 float32 형 변형. \n",
    "    images = np.array(images/255.0, dtype=np.float32)\n",
    "    labels = np.array(labels, dtype=np.float32)\n",
    "    \n",
    "    return images, labels\n",
    "\n",
    "train_images, train_labels = get_preprocessed_data(train_images, train_labels)\n",
    "test_images, test_labels = get_preprocessed_data(test_images, test_labels)"
   ]
  },
  {
   "cell_type": "code",
   "execution_count": 22,
   "id": "be697395",
   "metadata": {
    "execution": {
     "iopub.execute_input": "2023-03-05T13:46:30.914573Z",
     "iopub.status.busy": "2023-03-05T13:46:30.914135Z",
     "iopub.status.idle": "2023-03-05T13:46:32.230934Z",
     "shell.execute_reply": "2023-03-05T13:46:32.229376Z"
    },
    "papermill": {
     "duration": 1.483677,
     "end_time": "2023-03-05T13:46:32.234511",
     "exception": false,
     "start_time": "2023-03-05T13:46:30.750834",
     "status": "completed"
    },
    "tags": []
   },
   "outputs": [
    {
     "name": "stdout",
     "output_type": "stream",
     "text": [
      "train과 validation shape: (51000, 28, 28) (51000,) (9000, 28, 28) (9000,)\n",
      "after OHE: (51000, 10) (9000, 10)\n"
     ]
    }
   ],
   "source": [
    "from sklearn.model_selection import train_test_split\n",
    "from tensorflow.keras.utils import to_categorical\n",
    "\n",
    "# 기존 학습 데이터를 다시 학습과 검증 데이터 세트로 분리\n",
    "tr_images, val_images, tr_labels, val_labels = train_test_split(train_images, train_labels, test_size=0.15, random_state=2021)\n",
    "print('train과 validation shape:', tr_images.shape, tr_labels.shape, val_images.shape, val_labels.shape)\n",
    "\n",
    "# OHE 적용\n",
    "tr_oh_labels = to_categorical(tr_labels)\n",
    "val_oh_labels = to_categorical(val_labels)\n",
    "\n",
    "print('after OHE:', tr_oh_labels.shape, val_oh_labels.shape)"
   ]
  },
  {
   "cell_type": "markdown",
   "id": "efea34ed",
   "metadata": {
    "papermill": {
     "duration": 0.150753,
     "end_time": "2023-03-05T13:46:32.544569",
     "exception": false,
     "start_time": "2023-03-05T13:46:32.393816",
     "status": "completed"
    },
    "tags": []
   },
   "source": [
    "### 검증 데이터 세트를 적용하여 학습 수행. "
   ]
  },
  {
   "cell_type": "code",
   "execution_count": null,
   "id": "3bd0da6b",
   "metadata": {
    "papermill": {
     "duration": 0.154467,
     "end_time": "2023-03-05T13:46:32.853835",
     "exception": false,
     "start_time": "2023-03-05T13:46:32.699368",
     "status": "completed"
    },
    "tags": []
   },
   "outputs": [],
   "source": []
  },
  {
   "cell_type": "code",
   "execution_count": 23,
   "id": "ebae6c6c",
   "metadata": {
    "execution": {
     "iopub.execute_input": "2023-03-05T13:46:33.171076Z",
     "iopub.status.busy": "2023-03-05T13:46:33.170339Z",
     "iopub.status.idle": "2023-03-05T13:46:33.218577Z",
     "shell.execute_reply": "2023-03-05T13:46:33.217492Z"
    },
    "papermill": {
     "duration": 0.210767,
     "end_time": "2023-03-05T13:46:33.221183",
     "exception": false,
     "start_time": "2023-03-05T13:46:33.010416",
     "status": "completed"
    },
    "tags": []
   },
   "outputs": [],
   "source": [
    "from tensorflow.keras.layers import Dense, Flatten\n",
    "from tensorflow.keras.models import Sequential\n",
    "from tensorflow.keras.optimizers import Adam\n",
    "\n",
    "INPUT_SIZE = 28\n",
    "model = Sequential([\n",
    "    Flatten(input_shape=(INPUT_SIZE, INPUT_SIZE)),\n",
    "    Dense(100, activation='relu'),\n",
    "    Dense(30, activation='relu'),\n",
    "    Dense(10, activation='softmax')\n",
    "])\n",
    "\n",
    "model.compile(optimizer=Adam(0.001), loss='categorical_crossentropy', metrics=['accuracy'])"
   ]
  },
  {
   "cell_type": "code",
   "execution_count": 24,
   "id": "da63ae6c",
   "metadata": {
    "execution": {
     "iopub.execute_input": "2023-03-05T13:46:33.572583Z",
     "iopub.status.busy": "2023-03-05T13:46:33.572161Z",
     "iopub.status.idle": "2023-03-05T13:47:15.462439Z",
     "shell.execute_reply": "2023-03-05T13:47:15.461164Z"
    },
    "papermill": {
     "duration": 42.050769,
     "end_time": "2023-03-05T13:47:15.465274",
     "exception": false,
     "start_time": "2023-03-05T13:46:33.414505",
     "status": "completed"
    },
    "tags": []
   },
   "outputs": [
    {
     "name": "stdout",
     "output_type": "stream",
     "text": [
      "Epoch 1/20\n",
      "399/399 [==============================] - 3s 5ms/step - loss: 0.6042 - accuracy: 0.7933 - val_loss: 0.4550 - val_accuracy: 0.8352\n",
      "Epoch 2/20\n",
      "399/399 [==============================] - 2s 5ms/step - loss: 0.4167 - accuracy: 0.8527 - val_loss: 0.4136 - val_accuracy: 0.8543\n",
      "Epoch 3/20\n",
      "399/399 [==============================] - 2s 4ms/step - loss: 0.3720 - accuracy: 0.8697 - val_loss: 0.3728 - val_accuracy: 0.8670\n",
      "Epoch 4/20\n",
      "399/399 [==============================] - 2s 5ms/step - loss: 0.3464 - accuracy: 0.8765 - val_loss: 0.3891 - val_accuracy: 0.8612\n",
      "Epoch 5/20\n",
      "399/399 [==============================] - 2s 4ms/step - loss: 0.3244 - accuracy: 0.8836 - val_loss: 0.3684 - val_accuracy: 0.8651\n",
      "Epoch 6/20\n",
      "399/399 [==============================] - 2s 4ms/step - loss: 0.3111 - accuracy: 0.8881 - val_loss: 0.3430 - val_accuracy: 0.8770\n",
      "Epoch 7/20\n",
      "399/399 [==============================] - 2s 6ms/step - loss: 0.2978 - accuracy: 0.8921 - val_loss: 0.3488 - val_accuracy: 0.8737\n",
      "Epoch 8/20\n",
      "399/399 [==============================] - 2s 4ms/step - loss: 0.2880 - accuracy: 0.8958 - val_loss: 0.3312 - val_accuracy: 0.8792\n",
      "Epoch 9/20\n",
      "399/399 [==============================] - 2s 5ms/step - loss: 0.2772 - accuracy: 0.8987 - val_loss: 0.3328 - val_accuracy: 0.8774\n",
      "Epoch 10/20\n",
      "399/399 [==============================] - 2s 5ms/step - loss: 0.2672 - accuracy: 0.9025 - val_loss: 0.3327 - val_accuracy: 0.8859\n",
      "Epoch 11/20\n",
      "399/399 [==============================] - 2s 5ms/step - loss: 0.2596 - accuracy: 0.9063 - val_loss: 0.3484 - val_accuracy: 0.8730\n",
      "Epoch 12/20\n",
      "399/399 [==============================] - 2s 5ms/step - loss: 0.2522 - accuracy: 0.9062 - val_loss: 0.3271 - val_accuracy: 0.8807\n",
      "Epoch 13/20\n",
      "399/399 [==============================] - 2s 5ms/step - loss: 0.2423 - accuracy: 0.9114 - val_loss: 0.3127 - val_accuracy: 0.8861\n",
      "Epoch 14/20\n",
      "399/399 [==============================] - 2s 4ms/step - loss: 0.2393 - accuracy: 0.9105 - val_loss: 0.3086 - val_accuracy: 0.8862\n",
      "Epoch 15/20\n",
      "399/399 [==============================] - 2s 5ms/step - loss: 0.2318 - accuracy: 0.9153 - val_loss: 0.3452 - val_accuracy: 0.8786\n",
      "Epoch 16/20\n",
      "399/399 [==============================] - 2s 5ms/step - loss: 0.2228 - accuracy: 0.9179 - val_loss: 0.3195 - val_accuracy: 0.8839\n",
      "Epoch 17/20\n",
      "399/399 [==============================] - 2s 4ms/step - loss: 0.2214 - accuracy: 0.9186 - val_loss: 0.3185 - val_accuracy: 0.8853\n",
      "Epoch 18/20\n",
      "399/399 [==============================] - 2s 4ms/step - loss: 0.2137 - accuracy: 0.9208 - val_loss: 0.3193 - val_accuracy: 0.8841\n",
      "Epoch 19/20\n",
      "399/399 [==============================] - 2s 4ms/step - loss: 0.2087 - accuracy: 0.9228 - val_loss: 0.3268 - val_accuracy: 0.8836\n",
      "Epoch 20/20\n",
      "399/399 [==============================] - 2s 4ms/step - loss: 0.2059 - accuracy: 0.9246 - val_loss: 0.3214 - val_accuracy: 0.8873\n"
     ]
    }
   ],
   "source": [
    "history = model.fit(x=tr_images, y=tr_oh_labels, batch_size=128, validation_data=(val_images, val_oh_labels), \n",
    "                    epochs=20, verbose=1)"
   ]
  },
  {
   "cell_type": "code",
   "execution_count": 25,
   "id": "98fd9fd4",
   "metadata": {
    "execution": {
     "iopub.execute_input": "2023-03-05T13:47:15.861640Z",
     "iopub.status.busy": "2023-03-05T13:47:15.860522Z",
     "iopub.status.idle": "2023-03-05T13:47:15.868840Z",
     "shell.execute_reply": "2023-03-05T13:47:15.867585Z"
    },
    "papermill": {
     "duration": 0.20797,
     "end_time": "2023-03-05T13:47:15.871021",
     "exception": false,
     "start_time": "2023-03-05T13:47:15.663051",
     "status": "completed"
    },
    "tags": []
   },
   "outputs": [
    {
     "name": "stdout",
     "output_type": "stream",
     "text": [
      "[0.6041860580444336, 0.41667965054512024, 0.37203601002693176, 0.3463631570339203, 0.3243500590324402, 0.3111260235309601, 0.29781270027160645, 0.2879956066608429, 0.2772257626056671, 0.2671842575073242, 0.2595685124397278, 0.25216400623321533, 0.24229082465171814, 0.23931124806404114, 0.23183727264404297, 0.2228347510099411, 0.22141720354557037, 0.21371591091156006, 0.208701491355896, 0.2058500349521637]\n",
      "[0.7932941317558289, 0.8527451157569885, 0.8696666955947876, 0.8765293955802917, 0.8836274743080139, 0.8880784511566162, 0.8921176195144653, 0.895784318447113, 0.8986666798591614, 0.902470588684082, 0.9062941074371338, 0.9062352776527405, 0.9113529324531555, 0.9104902148246765, 0.9153333306312561, 0.9179215431213379, 0.9186274409294128, 0.9208235144615173, 0.9228431582450867, 0.9246078133583069]\n",
      "[0.45503002405166626, 0.41357097029685974, 0.3728439509868622, 0.3891116678714752, 0.3684210479259491, 0.3430080711841583, 0.3488408029079437, 0.33122849464416504, 0.3327605128288269, 0.3327011466026306, 0.34844720363616943, 0.32714134454727173, 0.31268253922462463, 0.3085777163505554, 0.34519433975219727, 0.3195418417453766, 0.3184810280799866, 0.31926429271698, 0.3268297612667084, 0.321419358253479]\n",
      "[0.8352222442626953, 0.8543333411216736, 0.8669999837875366, 0.8612222075462341, 0.8651111125946045, 0.8769999742507935, 0.8736666440963745, 0.8792222142219543, 0.8774444460868835, 0.8858888745307922, 0.8730000257492065, 0.8806666731834412, 0.8861111402511597, 0.886222243309021, 0.8785555362701416, 0.8838889002799988, 0.8853333592414856, 0.8841111063957214, 0.88355553150177, 0.887333333492279]\n"
     ]
    }
   ],
   "source": [
    "print(history.history['loss'])\n",
    "print(history.history['accuracy'])\n",
    "print(history.history['val_loss'])\n",
    "print(history.history['val_accuracy'])"
   ]
  },
  {
   "cell_type": "code",
   "execution_count": 26,
   "id": "de1facc1",
   "metadata": {
    "execution": {
     "iopub.execute_input": "2023-03-05T13:47:16.260157Z",
     "iopub.status.busy": "2023-03-05T13:47:16.259377Z",
     "iopub.status.idle": "2023-03-05T13:47:16.526464Z",
     "shell.execute_reply": "2023-03-05T13:47:16.525454Z"
    },
    "papermill": {
     "duration": 0.464179,
     "end_time": "2023-03-05T13:47:16.528861",
     "exception": false,
     "start_time": "2023-03-05T13:47:16.064682",
     "status": "completed"
    },
    "tags": []
   },
   "outputs": [
    {
     "data": {
      "text/plain": [
       "<matplotlib.legend.Legend at 0x7fb62531fb90>"
      ]
     },
     "execution_count": 26,
     "metadata": {},
     "output_type": "execute_result"
    },
    {
     "data": {
      "image/png": "[encoded data removed]",
      "text/plain": [
       "<Figure size 640x480 with 1 Axes>"
      ]
     },
     "metadata": {},
     "output_type": "display_data"
    }
   ],
   "source": [
    "import matplotlib.pyplot as plt\n",
    "%matplotlib inline\n",
    "\n",
    "plt.plot(history.history['accuracy'], label='train')\n",
    "plt.plot(history.history['val_accuracy'], label='valid')\n",
    "plt.legend()"
   ]
  },
  {
   "cell_type": "markdown",
   "id": "10cb0ba5",
   "metadata": {
    "papermill": {
     "duration": 0.191859,
     "end_time": "2023-03-05T13:47:16.907713",
     "exception": false,
     "start_time": "2023-03-05T13:47:16.715854",
     "status": "completed"
    },
    "tags": []
   },
   "source": [
    "### Functional API"
   ]
  },
  {
   "cell_type": "code",
   "execution_count": 27,
   "id": "df8c3a86",
   "metadata": {
    "execution": {
     "iopub.execute_input": "2023-03-05T13:47:17.355440Z",
     "iopub.status.busy": "2023-03-05T13:47:17.354272Z",
     "iopub.status.idle": "2023-03-05T13:47:17.472582Z",
     "shell.execute_reply": "2023-03-05T13:47:17.471722Z"
    },
    "papermill": {
     "duration": 0.371178,
     "end_time": "2023-03-05T13:47:17.480766",
     "exception": false,
     "start_time": "2023-03-05T13:47:17.109588",
     "status": "completed"
    },
    "tags": []
   },
   "outputs": [
    {
     "name": "stdout",
     "output_type": "stream",
     "text": [
      "Model: \"sequential_2\"\n",
      "_________________________________________________________________\n",
      " Layer (type)                Output Shape              Param #   \n",
      "=================================================================\n",
      " flatten_2 (Flatten)         (None, 784)               0         \n",
      "                                                                 \n",
      " dense_6 (Dense)             (None, 100)               78500     \n",
      "                                                                 \n",
      " dense_7 (Dense)             (None, 30)                3030      \n",
      "                                                                 \n",
      " dense_8 (Dense)             (None, 10)                310       \n",
      "                                                                 \n",
      "=================================================================\n",
      "Total params: 81,840\n",
      "Trainable params: 81,840\n",
      "Non-trainable params: 0\n",
      "_________________________________________________________________\n",
      "Model: \"sequential_3\"\n",
      "_________________________________________________________________\n",
      " Layer (type)                Output Shape              Param #   \n",
      "=================================================================\n",
      " flatten_3 (Flatten)         (None, 784)               0         \n",
      "                                                                 \n",
      " dense_9 (Dense)             (None, 100)               78500     \n",
      "                                                                 \n",
      " dense_10 (Dense)            (None, 30)                3030      \n",
      "                                                                 \n",
      " dense_11 (Dense)            (None, 10)                310       \n",
      "                                                                 \n",
      "=================================================================\n",
      "Total params: 81,840\n",
      "Trainable params: 81,840\n",
      "Non-trainable params: 0\n",
      "_________________________________________________________________\n"
     ]
    }
   ],
   "source": [
    "# Sequential Model을 이용하여 Keras 모델 생성 \n",
    "from tensorflow.keras.layers import Dense, Flatten\n",
    "from tensorflow.keras.models import Sequential\n",
    "\n",
    "INPUT_SIZE = 28\n",
    "\n",
    "model = Sequential([\n",
    "    Flatten(input_shape=(INPUT_SIZE, INPUT_SIZE)),\n",
    "    Dense(100, activation='relu'),\n",
    "    Dense(30, activation='relu'),\n",
    "    Dense(10, activation='softmax')\n",
    "])\n",
    "\n",
    "model.summary()\n",
    "\n",
    "model1 = Sequential()\n",
    "model1.add(Flatten(input_shape=(INPUT_SIZE, INPUT_SIZE)))\n",
    "model1.add(Dense(100, activation='relu'))\n",
    "model1.add(Dense(30, activation='relu'))\n",
    "model1.add(Dense(10, activation='softmax'))\n",
    "\n",
    "model1.summary()\n"
   ]
  },
  {
   "cell_type": "code",
   "execution_count": 28,
   "id": "aa820968",
   "metadata": {
    "execution": {
     "iopub.execute_input": "2023-03-05T13:47:17.872048Z",
     "iopub.status.busy": "2023-03-05T13:47:17.871657Z",
     "iopub.status.idle": "2023-03-05T13:47:17.934888Z",
     "shell.execute_reply": "2023-03-05T13:47:17.933918Z"
    },
    "papermill": {
     "duration": 0.271483,
     "end_time": "2023-03-05T13:47:17.945868",
     "exception": false,
     "start_time": "2023-03-05T13:47:17.674385",
     "status": "completed"
    },
    "tags": []
   },
   "outputs": [
    {
     "name": "stdout",
     "output_type": "stream",
     "text": [
      "Model: \"model\"\n",
      "_________________________________________________________________\n",
      " Layer (type)                Output Shape              Param #   \n",
      "=================================================================\n",
      " input_1 (InputLayer)        [(None, 28, 28)]          0         \n",
      "                                                                 \n",
      " flatten_4 (Flatten)         (None, 784)               0         \n",
      "                                                                 \n",
      " Dense1 (Dense)              (None, 100)               78500     \n",
      "                                                                 \n",
      " Dense2 (Dense)              (None, 30)                3030      \n",
      "                                                                 \n",
      " dense_12 (Dense)            (None, 10)                310       \n",
      "                                                                 \n",
      "=================================================================\n",
      "Total params: 81,840\n",
      "Trainable params: 81,840\n",
      "Non-trainable params: 0\n",
      "_________________________________________________________________\n"
     ]
    }
   ],
   "source": [
    "from tensorflow.keras.layers import Input, Flatten, Dense\n",
    "from tensorflow.keras.models import Model\n",
    "\n",
    "input_tensor = Input(shape=(INPUT_SIZE, INPUT_SIZE))\n",
    "x = Flatten()(input_tensor) #Flatten(생성 파라미터)28*28 -->784 (입력인자)\n",
    "x = Dense(100, activation='relu',name='Dense1')(x)\n",
    "x = Dense(30, activation='relu',name='Dense2')(x)\n",
    "output = Dense(10, activation='softmax')(x)\n",
    "\n",
    "model = Model(inputs=input_tensor, outputs=output)\n",
    "\n",
    "model.summary()"
   ]
  },
  {
   "cell_type": "markdown",
   "id": "cf6de517",
   "metadata": {
    "papermill": {
     "duration": 0.282908,
     "end_time": "2023-03-05T13:47:18.428508",
     "exception": false,
     "start_time": "2023-03-05T13:47:18.145600",
     "status": "completed"
    },
    "tags": []
   },
   "source": [
    "### Custom한 Dense Layer 생성하기"
   ]
  },
  {
   "cell_type": "code",
   "execution_count": 29,
   "id": "36c337d5",
   "metadata": {
    "execution": {
     "iopub.execute_input": "2023-03-05T13:47:19.030413Z",
     "iopub.status.busy": "2023-03-05T13:47:19.029964Z",
     "iopub.status.idle": "2023-03-05T13:47:19.134125Z",
     "shell.execute_reply": "2023-03-05T13:47:19.133302Z"
    },
    "papermill": {
     "duration": 0.421383,
     "end_time": "2023-03-05T13:47:19.143466",
     "exception": false,
     "start_time": "2023-03-05T13:47:18.722083",
     "status": "completed"
    },
    "tags": []
   },
   "outputs": [
    {
     "name": "stdout",
     "output_type": "stream",
     "text": [
      "Model: \"model_1\"\n",
      "_________________________________________________________________\n",
      " Layer (type)                Output Shape              Param #   \n",
      "=================================================================\n",
      " input_2 (InputLayer)        [(None, 4)]               0         \n",
      "                                                                 \n",
      " custom_dense (CustomDense)  (None, 10)                50        \n",
      "                                                                 \n",
      "=================================================================\n",
      "Total params: 50\n",
      "Trainable params: 50\n",
      "Non-trainable params: 0\n",
      "_________________________________________________________________\n"
     ]
    }
   ],
   "source": [
    "from tensorflow.keras.layers import Layer, Input\n",
    "from tensorflow.keras.models import Model\n",
    "import tensorflow as tf\n",
    "\n",
    "class CustomDense(tf.keras.layers.Layer):\n",
    "    # CustomDense 객체 생성시 입력되는 초기화 parameter 처리\n",
    "    def __init__(self, units=32):\n",
    "        super(CustomDense, self).__init__()\n",
    "        self.units = units\n",
    "\n",
    "    def build(self, input_shape):\n",
    "        self.w = self.add_weight(\n",
    "            shape=(input_shape[-1], self.units),\n",
    "            initializer=\"random_normal\",\n",
    "            trainable=True,\n",
    "        )\n",
    "        self.b = self.add_weight(\n",
    "            shape=(self.units,), initializer=\"random_normal\", trainable=True\n",
    "        )\n",
    "        \n",
    "    # CustomDense 객체에 callable로 입력된 입력 데이터 처리. \n",
    "    def call(self, inputs):\n",
    "        return tf.matmul(inputs, self.w) + self.b\n",
    "\n",
    "# input 값을 4개의 원소를 가지는 1차원으로 생성. \n",
    "inputs = Input((4,))\n",
    "# 10개의 unit을 가지는 CustomDense 객체를 생성 후 callable로 inputs값 입력 \n",
    "outputs = CustomDense(10)(inputs) #units = 10\n",
    "\n",
    "# inputs와 outputs로 model 생성. \n",
    "model = Model(inputs, outputs)\n",
    "model.summary()\n"
   ]
  },
  {
   "cell_type": "markdown",
   "id": "d9fbc338",
   "metadata": {
    "papermill": {
     "duration": 0.28577,
     "end_time": "2023-03-05T13:47:19.735281",
     "exception": false,
     "start_time": "2023-03-05T13:47:19.449511",
     "status": "completed"
    },
    "tags": []
   },
   "source": [
    "### Functional API는 객체 생성 부분과 Callable 인자 입력 부분을 별도로 수행해도 무방. "
   ]
  },
  {
   "cell_type": "code",
   "execution_count": 30,
   "id": "1aa5f86b",
   "metadata": {
    "execution": {
     "iopub.execute_input": "2023-03-05T13:47:20.173568Z",
     "iopub.status.busy": "2023-03-05T13:47:20.172305Z",
     "iopub.status.idle": "2023-03-05T13:47:20.210140Z",
     "shell.execute_reply": "2023-03-05T13:47:20.209157Z"
    },
    "papermill": {
     "duration": 0.286818,
     "end_time": "2023-03-05T13:47:20.217641",
     "exception": false,
     "start_time": "2023-03-05T13:47:19.930823",
     "status": "completed"
    },
    "tags": []
   },
   "outputs": [
    {
     "name": "stdout",
     "output_type": "stream",
     "text": [
      "Model: \"model_2\"\n",
      "_________________________________________________________________\n",
      " Layer (type)                Output Shape              Param #   \n",
      "=================================================================\n",
      " input_3 (InputLayer)        [(None, 4)]               0         \n",
      "                                                                 \n",
      " custom_dense_1 (CustomDense  (None, 10)               50        \n",
      " )                                                               \n",
      "                                                                 \n",
      "=================================================================\n",
      "Total params: 50\n",
      "Trainable params: 50\n",
      "Non-trainable params: 0\n",
      "_________________________________________________________________\n"
     ]
    }
   ],
   "source": [
    "inputs = Input((4,))\n",
    "# 10개의 unit을 가지는 CustomDense 객체를 생성 후 callable로 inputs값 입력 \n",
    "my_layer = CustomDense(10)\n",
    "outputs = my_layer(inputs)\n",
    "\n",
    "# inputs와 outputs로 model 생성. \n",
    "model = Model(inputs, outputs)\n",
    "model.summary()"
   ]
  },
  {
   "cell_type": "markdown",
   "id": "81d5a492",
   "metadata": {
    "papermill": {
     "duration": 0.195153,
     "end_time": "2023-03-05T13:47:20.619688",
     "exception": false,
     "start_time": "2023-03-05T13:47:20.424535",
     "status": "completed"
    },
    "tags": []
   },
   "source": [
    "### Sequential Model 생성은 단지 Functional API Layer들을 iteration 하면서 연결한 것을 model로 만든 것임"
   ]
  },
  {
   "cell_type": "code",
   "execution_count": 31,
   "id": "2d2efb59",
   "metadata": {
    "execution": {
     "iopub.execute_input": "2023-03-05T13:47:21.023373Z",
     "iopub.status.busy": "2023-03-05T13:47:21.022377Z",
     "iopub.status.idle": "2023-03-05T13:47:21.079310Z",
     "shell.execute_reply": "2023-03-05T13:47:21.078187Z"
    },
    "papermill": {
     "duration": 0.270589,
     "end_time": "2023-03-05T13:47:21.088663",
     "exception": false,
     "start_time": "2023-03-05T13:47:20.818074",
     "status": "completed"
    },
    "tags": []
   },
   "outputs": [
    {
     "name": "stdout",
     "output_type": "stream",
     "text": [
      "Model: \"sequential_4\"\n",
      "_________________________________________________________________\n",
      " Layer (type)                Output Shape              Param #   \n",
      "=================================================================\n",
      " custom_dense_2 (CustomDense  (None, 10)               50        \n",
      " )                                                               \n",
      "                                                                 \n",
      " custom_dense_3 (CustomDense  (None, 8)                88        \n",
      " )                                                               \n",
      "                                                                 \n",
      " re_lu (ReLU)                (None, 8)                 0         \n",
      "                                                                 \n",
      "=================================================================\n",
      "Total params: 138\n",
      "Trainable params: 138\n",
      "Non-trainable params: 0\n",
      "_________________________________________________________________\n"
     ]
    }
   ],
   "source": [
    "from tensorflow.keras.models import Sequential\n",
    "\n",
    "model = Sequential([Input((4,)),\n",
    "                   CustomDense(10),\n",
    "                   CustomDense(8), \n",
    "                   tf.keras.layers.ReLU()])\n",
    "model.summary()"
   ]
  },
  {
   "cell_type": "markdown",
   "id": "e94941ea",
   "metadata": {
    "papermill": {
     "duration": 0.204528,
     "end_time": "2023-03-05T13:47:21.499920",
     "exception": false,
     "start_time": "2023-03-05T13:47:21.295392",
     "status": "completed"
    },
    "tags": []
   },
   "source": [
    "### Sequential Model을 Functional 객체를 For loop 반복 호출하여 작성."
   ]
  },
  {
   "cell_type": "code",
   "execution_count": 32,
   "id": "4c99344e",
   "metadata": {
    "execution": {
     "iopub.execute_input": "2023-03-05T13:47:21.895781Z",
     "iopub.status.busy": "2023-03-05T13:47:21.894946Z",
     "iopub.status.idle": "2023-03-05T13:47:21.904736Z",
     "shell.execute_reply": "2023-03-05T13:47:21.903517Z"
    },
    "papermill": {
     "duration": 0.214064,
     "end_time": "2023-03-05T13:47:21.907540",
     "exception": false,
     "start_time": "2023-03-05T13:47:21.693476",
     "status": "completed"
    },
    "tags": []
   },
   "outputs": [
    {
     "name": "stdout",
     "output_type": "stream",
     "text": [
      "0 KerasTensor(type_spec=TensorSpec(shape=(None, 4), dtype=tf.float32, name='input_5'), name='input_5', description=\"created by layer 'input_5'\")\n",
      "1 <__main__.CustomDense object at 0x7fb62527e6d0>\n",
      "2 <__main__.CustomDense object at 0x7fb62520ecd0>\n",
      "3 <keras.layers.activation.relu.ReLU object at 0x7fb62520e8d0>\n"
     ]
    }
   ],
   "source": [
    "layers_list = [Input((4,)), CustomDense(10), CustomDense(8), tf.keras.layers.ReLU()]\n",
    "\n",
    "for index, layer in enumerate(layers_list):\n",
    "        print(index, layer)"
   ]
  },
  {
   "cell_type": "code",
   "execution_count": 33,
   "id": "a426fe8d",
   "metadata": {
    "execution": {
     "iopub.execute_input": "2023-03-05T13:47:22.355682Z",
     "iopub.status.busy": "2023-03-05T13:47:22.354691Z",
     "iopub.status.idle": "2023-03-05T13:47:22.407952Z",
     "shell.execute_reply": "2023-03-05T13:47:22.406961Z"
    },
    "papermill": {
     "duration": 0.307377,
     "end_time": "2023-03-05T13:47:22.420624",
     "exception": false,
     "start_time": "2023-03-05T13:47:22.113247",
     "status": "completed"
    },
    "tags": []
   },
   "outputs": [
    {
     "name": "stdout",
     "output_type": "stream",
     "text": [
      "Model: \"model_3\"\n",
      "_________________________________________________________________\n",
      " Layer (type)                Output Shape              Param #   \n",
      "=================================================================\n",
      " input_6 (InputLayer)        [(None, 4)]               0         \n",
      "                                                                 \n",
      " custom_dense_6 (CustomDense  (None, 10)               50        \n",
      " )                                                               \n",
      "                                                                 \n",
      " custom_dense_7 (CustomDense  (None, 8)                88        \n",
      " )                                                               \n",
      "                                                                 \n",
      " re_lu_2 (ReLU)              (None, 8)                 0         \n",
      "                                                                 \n",
      "=================================================================\n",
      "Total params: 138\n",
      "Trainable params: 138\n",
      "Non-trainable params: 0\n",
      "_________________________________________________________________\n"
     ]
    }
   ],
   "source": [
    "layers_list = [Input((4,)), CustomDense(10), CustomDense(8), tf.keras.layers.ReLU()]\n",
    "\n",
    "inputs = None\n",
    "callable_inputs = None\n",
    "outputs = None\n",
    "# layers_list에 있는 Functional 객체를 iteration 수행하면서 적용. \n",
    "for index, layer in enumerate(layers_list):\n",
    "    # layers_list의 첫번째 인자는 Input 간주. \n",
    "    if index == 0:\n",
    "        inputs = layer\n",
    "        callable_inputs = layer\n",
    "    # Functional 객체에 callable 인자로 callable_inputs를 입력하고 반환 결과 값을 다시 callable_inputs로 할당.     \n",
    "    else: \n",
    "        callable_inputs = layer(callable_inputs)\n",
    "    \n",
    "outputs = callable_inputs\n",
    "model = Model(inputs, outputs)\n",
    "model.summary()\n"
   ]
  },
  {
   "cell_type": "markdown",
   "id": "9b842dc5",
   "metadata": {
    "papermill": {
     "duration": 0.2032,
     "end_time": "2023-03-05T13:47:22.835079",
     "exception": false,
     "start_time": "2023-03-05T13:47:22.631879",
     "status": "completed"
    },
    "tags": []
   },
   "source": [
    "### 앞에서 생성한 로직들을 함수화 \n",
    "* Functional API로 모델 만들기\n",
    "* pixel값 1 ~ 255를 0 ~ 1사이값 Float 32로 만들기\n",
    "* One Hot Encoding Label에 적용하기\n",
    "* 학습과 검증 데이터로 나누기.\n",
    "* compile, 학습/예측/평가"
   ]
  },
  {
   "cell_type": "code",
   "execution_count": 34,
   "id": "4802de60",
   "metadata": {
    "execution": {
     "iopub.execute_input": "2023-03-05T13:47:23.253504Z",
     "iopub.status.busy": "2023-03-05T13:47:23.253086Z",
     "iopub.status.idle": "2023-03-05T13:47:23.260545Z",
     "shell.execute_reply": "2023-03-05T13:47:23.259386Z"
    },
    "papermill": {
     "duration": 0.220273,
     "end_time": "2023-03-05T13:47:23.263049",
     "exception": false,
     "start_time": "2023-03-05T13:47:23.042776",
     "status": "completed"
    },
    "tags": []
   },
   "outputs": [],
   "source": [
    "from tensorflow.keras.layers import Layer, Input, Dense, Flatten\n",
    "from tensorflow.keras.models import Model\n",
    "import tensorflow as tf\n",
    "\n",
    "INPUT_SIZE = 28\n",
    "\n",
    "def create_model():\n",
    "    input_tensor = Input(shape=(INPUT_SIZE, INPUT_SIZE))\n",
    "    x = Flatten()(input_tensor)\n",
    "    x = Dense(100, activation='relu')(x)\n",
    "    x = Dense(30, activation='relu')(x)\n",
    "    output = Dense(10, activation='softmax')(x)\n",
    "    \n",
    "    model = Model(inputs=input_tensor, outputs=output)\n",
    "    return model\n"
   ]
  },
  {
   "cell_type": "code",
   "execution_count": 35,
   "id": "bfb90edd",
   "metadata": {
    "execution": {
     "iopub.execute_input": "2023-03-05T13:47:23.672669Z",
     "iopub.status.busy": "2023-03-05T13:47:23.671585Z",
     "iopub.status.idle": "2023-03-05T13:47:23.681299Z",
     "shell.execute_reply": "2023-03-05T13:47:23.680233Z"
    },
    "papermill": {
     "duration": 0.206806,
     "end_time": "2023-03-05T13:47:23.683659",
     "exception": false,
     "start_time": "2023-03-05T13:47:23.476853",
     "status": "completed"
    },
    "tags": []
   },
   "outputs": [],
   "source": [
    "import numpy as np\n",
    "from tensorflow.keras.utils import to_categorical\n",
    "from sklearn.model_selection import train_test_split\n",
    "\n",
    "# 0 ~ 1사이값의 float32로 변경하는 함수\n",
    "def get_preprocessed_data(images, labels):\n",
    "    \n",
    "    # 학습과 테스트 이미지 array를 0~1 사이값으로 scale 및 float32 형 변형. \n",
    "    images = np.array(images/255.0, dtype=np.float32)\n",
    "    labels = np.array(labels, dtype=np.float32)\n",
    "    \n",
    "    return images, labels\n",
    "\n",
    "# 0 ~ 1사이값 float32로 변경하는 함수 호출 한 뒤 OHE 적용 \n",
    "def get_preprocessed_ohe(images, labels):\n",
    "    images, labels = get_preprocessed_data(images, labels)\n",
    "    # OHE 적용 \n",
    "    oh_labels = to_categorical(labels)\n",
    "    return images, oh_labels\n",
    "\n",
    "# 학습/검증/테스트 데이터 세트에 전처리 및 OHE 적용한 뒤 반환 \n",
    "def get_train_valid_test_set(train_images, train_labels, test_images, test_labels, valid_size=0.15, random_state=2021):\n",
    "    # 학습 및 테스트 데이터 세트를  0 ~ 1사이값 float32로 변경 및 OHE 적용. \n",
    "    train_images, train_oh_labels = get_preprocessed_ohe(train_images, train_labels)\n",
    "    test_images, test_oh_labels = get_preprocessed_ohe(test_images, test_labels)\n",
    "    \n",
    "    # 학습 데이터를 검증 데이터 세트로 다시 분리\n",
    "    tr_images, val_images, tr_oh_labels, val_oh_labels = train_test_split(train_images, train_oh_labels, test_size=valid_size, random_state=random_state)\n",
    "    \n",
    "    return (tr_images, tr_oh_labels), (val_images, val_oh_labels), (test_images, test_oh_labels ) \n"
   ]
  },
  {
   "cell_type": "code",
   "execution_count": 36,
   "id": "f4ab0c71",
   "metadata": {
    "execution": {
     "iopub.execute_input": "2023-03-05T13:47:24.092365Z",
     "iopub.status.busy": "2023-03-05T13:47:24.091965Z",
     "iopub.status.idle": "2023-03-05T13:47:24.915742Z",
     "shell.execute_reply": "2023-03-05T13:47:24.914500Z"
    },
    "papermill": {
     "duration": 1.0364,
     "end_time": "2023-03-05T13:47:24.918941",
     "exception": false,
     "start_time": "2023-03-05T13:47:23.882541",
     "status": "completed"
    },
    "tags": []
   },
   "outputs": [
    {
     "name": "stdout",
     "output_type": "stream",
     "text": [
      "(60000, 28, 28) (60000,) (10000, 28, 28) (10000,)\n",
      "(51000, 28, 28) (51000, 10) (9000, 28, 28) (9000, 10) (10000, 28, 28) (10000,)\n"
     ]
    }
   ],
   "source": [
    "from tensorflow.keras.datasets import fashion_mnist\n",
    "# Fashion MNIST 데이터 재 로딩 및 전처리 적용하여 학습/검증/데이터 세트 생성. \n",
    "\n",
    "(train_images, train_labels), (test_images, test_labels) = fashion_mnist.load_data()\n",
    "print(train_images.shape, train_labels.shape, test_images.shape, test_labels.shape)\n",
    "(tr_images, tr_oh_labels), (val_images, val_oh_labels), (test_images, test_oh_labels) = \\\n",
    "    get_train_valid_test_set(train_images, train_labels, test_images, test_labels, valid_size=0.15, random_state=2021)\n",
    "print(tr_images.shape, tr_oh_labels.shape, val_images.shape, val_oh_labels.shape, test_images.shape, test_labels.shape)\n"
   ]
  },
  {
   "cell_type": "code",
   "execution_count": 37,
   "id": "9f481ab6",
   "metadata": {
    "execution": {
     "iopub.execute_input": "2023-03-05T13:47:25.469493Z",
     "iopub.status.busy": "2023-03-05T13:47:25.469079Z",
     "iopub.status.idle": "2023-03-05T13:47:25.547815Z",
     "shell.execute_reply": "2023-03-05T13:47:25.546997Z"
    },
    "papermill": {
     "duration": 0.344909,
     "end_time": "2023-03-05T13:47:25.550143",
     "exception": false,
     "start_time": "2023-03-05T13:47:25.205234",
     "status": "completed"
    },
    "tags": []
   },
   "outputs": [
    {
     "name": "stdout",
     "output_type": "stream",
     "text": [
      "Model: \"model_4\"\n",
      "_________________________________________________________________\n",
      " Layer (type)                Output Shape              Param #   \n",
      "=================================================================\n",
      " input_7 (InputLayer)        [(None, 28, 28)]          0         \n",
      "                                                                 \n",
      " flatten_5 (Flatten)         (None, 784)               0         \n",
      "                                                                 \n",
      " dense_13 (Dense)            (None, 100)               78500     \n",
      "                                                                 \n",
      " dense_14 (Dense)            (None, 30)                3030      \n",
      "                                                                 \n",
      " dense_15 (Dense)            (None, 10)                310       \n",
      "                                                                 \n",
      "=================================================================\n",
      "Total params: 81,840\n",
      "Trainable params: 81,840\n",
      "Non-trainable params: 0\n",
      "_________________________________________________________________\n"
     ]
    }
   ],
   "source": [
    "from tensorflow.keras.optimizers import Adam\n",
    "\n",
    "# Model 생성 및 optimizer, loss, metric 적용\n",
    "model = create_model()\n",
    "model.summary()\n",
    "\n",
    "model.compile(optimizer=Adam(0.001), loss='categorical_crossentropy', metrics=['accuracy'])\n"
   ]
  },
  {
   "cell_type": "code",
   "execution_count": 38,
   "id": "ff89de2c",
   "metadata": {
    "execution": {
     "iopub.execute_input": "2023-03-05T13:47:25.987889Z",
     "iopub.status.busy": "2023-03-05T13:47:25.987461Z",
     "iopub.status.idle": "2023-03-05T13:48:02.854073Z",
     "shell.execute_reply": "2023-03-05T13:48:02.853091Z"
    },
    "papermill": {
     "duration": 37.089742,
     "end_time": "2023-03-05T13:48:02.856433",
     "exception": false,
     "start_time": "2023-03-05T13:47:25.766691",
     "status": "completed"
    },
    "tags": []
   },
   "outputs": [
    {
     "name": "stdout",
     "output_type": "stream",
     "text": [
      "Epoch 1/20\n",
      "399/399 [==============================] - 3s 5ms/step - loss: 0.6280 - accuracy: 0.7865 - val_loss: 0.4772 - val_accuracy: 0.8356\n",
      "Epoch 2/20\n",
      "399/399 [==============================] - 2s 4ms/step - loss: 0.4236 - accuracy: 0.8534 - val_loss: 0.4091 - val_accuracy: 0.8543\n",
      "Epoch 3/20\n",
      "399/399 [==============================] - 2s 4ms/step - loss: 0.3789 - accuracy: 0.8666 - val_loss: 0.3976 - val_accuracy: 0.8603\n",
      "Epoch 4/20\n",
      "399/399 [==============================] - 2s 5ms/step - loss: 0.3514 - accuracy: 0.8751 - val_loss: 0.3958 - val_accuracy: 0.8560\n",
      "Epoch 5/20\n",
      "399/399 [==============================] - 2s 5ms/step - loss: 0.3340 - accuracy: 0.8817 - val_loss: 0.3464 - val_accuracy: 0.8770\n",
      "Epoch 6/20\n",
      "399/399 [==============================] - 2s 4ms/step - loss: 0.3162 - accuracy: 0.8856 - val_loss: 0.3485 - val_accuracy: 0.8724\n",
      "Epoch 7/20\n",
      "399/399 [==============================] - 2s 4ms/step - loss: 0.3040 - accuracy: 0.8904 - val_loss: 0.3611 - val_accuracy: 0.8688\n",
      "Epoch 8/20\n",
      "399/399 [==============================] - 2s 4ms/step - loss: 0.2908 - accuracy: 0.8945 - val_loss: 0.3323 - val_accuracy: 0.8836\n",
      "Epoch 9/20\n",
      "399/399 [==============================] - 2s 4ms/step - loss: 0.2800 - accuracy: 0.8985 - val_loss: 0.3402 - val_accuracy: 0.8779\n",
      "Epoch 10/20\n",
      "399/399 [==============================] - 2s 4ms/step - loss: 0.2739 - accuracy: 0.8997 - val_loss: 0.3295 - val_accuracy: 0.8799\n",
      "Epoch 11/20\n",
      "399/399 [==============================] - 2s 5ms/step - loss: 0.2633 - accuracy: 0.9027 - val_loss: 0.3182 - val_accuracy: 0.8852\n",
      "Epoch 12/20\n",
      "399/399 [==============================] - 2s 4ms/step - loss: 0.2559 - accuracy: 0.9054 - val_loss: 0.3205 - val_accuracy: 0.8884\n",
      "Epoch 13/20\n",
      "399/399 [==============================] - 2s 5ms/step - loss: 0.2472 - accuracy: 0.9090 - val_loss: 0.3142 - val_accuracy: 0.8878\n",
      "Epoch 14/20\n",
      "399/399 [==============================] - 2s 5ms/step - loss: 0.2413 - accuracy: 0.9107 - val_loss: 0.3158 - val_accuracy: 0.8896\n",
      "Epoch 15/20\n",
      "399/399 [==============================] - 2s 4ms/step - loss: 0.2339 - accuracy: 0.9130 - val_loss: 0.3221 - val_accuracy: 0.8890\n",
      "Epoch 16/20\n",
      "399/399 [==============================] - 2s 4ms/step - loss: 0.2278 - accuracy: 0.9155 - val_loss: 0.3398 - val_accuracy: 0.8806\n",
      "Epoch 17/20\n",
      "399/399 [==============================] - 2s 5ms/step - loss: 0.2222 - accuracy: 0.9180 - val_loss: 0.3037 - val_accuracy: 0.8911\n",
      "Epoch 18/20\n",
      "399/399 [==============================] - 2s 4ms/step - loss: 0.2145 - accuracy: 0.9200 - val_loss: 0.3105 - val_accuracy: 0.8917\n",
      "Epoch 19/20\n",
      "399/399 [==============================] - 2s 4ms/step - loss: 0.2136 - accuracy: 0.9213 - val_loss: 0.3171 - val_accuracy: 0.8936\n",
      "Epoch 20/20\n",
      "399/399 [==============================] - 2s 4ms/step - loss: 0.2042 - accuracy: 0.9245 - val_loss: 0.3351 - val_accuracy: 0.8896\n"
     ]
    }
   ],
   "source": [
    "# 학습 수행. \n",
    "history = model.fit(x=tr_images, y=tr_oh_labels, batch_size=128, epochs=20, validation_data=(val_images, val_oh_labels))\n"
   ]
  },
  {
   "cell_type": "code",
   "execution_count": 39,
   "id": "8aac1e65",
   "metadata": {
    "execution": {
     "iopub.execute_input": "2023-03-05T13:48:03.331688Z",
     "iopub.status.busy": "2023-03-05T13:48:03.330519Z",
     "iopub.status.idle": "2023-03-05T13:48:03.584421Z",
     "shell.execute_reply": "2023-03-05T13:48:03.583408Z"
    },
    "papermill": {
     "duration": 0.501789,
     "end_time": "2023-03-05T13:48:03.586756",
     "exception": false,
     "start_time": "2023-03-05T13:48:03.084967",
     "status": "completed"
    },
    "tags": []
   },
   "outputs": [
    {
     "data": {
      "image/png": "[encoded data removed]",
      "text/plain": [
       "<Figure size 640x480 with 1 Axes>"
      ]
     },
     "metadata": {},
     "output_type": "display_data"
    }
   ],
   "source": [
    "import matplotlib.pyplot as plt\n",
    "%matplotlib inline\n",
    "\n",
    "def show_history(history):\n",
    "    plt.plot(history.history['accuracy'], label='train')\n",
    "    plt.plot(history.history['val_accuracy'], label='valid')\n",
    "    plt.legend()\n",
    "    \n",
    "show_history(history)"
   ]
  },
  {
   "cell_type": "code",
   "execution_count": 40,
   "id": "a635dec3",
   "metadata": {
    "execution": {
     "iopub.execute_input": "2023-03-05T13:48:04.096421Z",
     "iopub.status.busy": "2023-03-05T13:48:04.096053Z",
     "iopub.status.idle": "2023-03-05T13:48:04.304306Z",
     "shell.execute_reply": "2023-03-05T13:48:04.303353Z"
    },
    "papermill": {
     "duration": 0.492746,
     "end_time": "2023-03-05T13:48:04.306490",
     "exception": false,
     "start_time": "2023-03-05T13:48:03.813744",
     "status": "completed"
    },
    "tags": []
   },
   "outputs": [
    {
     "name": "stdout",
     "output_type": "stream",
     "text": [
      "40/40 [==============================] - 0s 3ms/step - loss: 0.3719 - accuracy: 0.8787\n"
     ]
    },
    {
     "data": {
      "text/plain": [
       "[0.3718595504760742, 0.8787000179290771]"
      ]
     },
     "execution_count": 40,
     "metadata": {},
     "output_type": "execute_result"
    }
   ],
   "source": [
    "# 테스트 데이터 세트로 모델 성능 검증\n",
    "model.evaluate(test_images, test_oh_labels, batch_size=256, verbose=1)\n"
   ]
  },
  {
   "cell_type": "markdown",
   "id": "1c52b6e4",
   "metadata": {
    "papermill": {
     "duration": 0.219854,
     "end_time": "2023-03-05T13:48:04.749271",
     "exception": false,
     "start_time": "2023-03-05T13:48:04.529417",
     "status": "completed"
    },
    "tags": []
   },
   "source": [
    "### Callback "
   ]
  },
  {
   "cell_type": "markdown",
   "id": "69b1780f",
   "metadata": {
    "papermill": {
     "duration": 0.22964,
     "end_time": "2023-03-05T13:48:05.204315",
     "exception": false,
     "start_time": "2023-03-05T13:48:04.974675",
     "status": "completed"
    },
    "tags": []
   },
   "source": [
    "#### ModelCheckpoint(filepath, monitor='val_loss', verbose=0, save_best_only=False, save_weights_only=False, mode='auto', period=1)\n",
    "* 특정 조건에 맞춰서 모델을 파일로 저장\n",
    "* filepath: filepath는 (on_epoch_end에서 전달되는) epoch의 값과 logs의 키로 채워진 이름 형식 옵션을 가질 수 있음.\n",
    "예를 들어 filepath가 weights.{epoch:02d}-{val_loss:.2f}.hdf5라면, 파일 이름에 세대 번호와 검증 손실을 넣어 모델의 체크포인트가 저장 \n",
    "* monitor: 모니터할 지표(loss 또는 평가 지표) \n",
    "* save_best_only: 가장 좋은 성능을 나타내는 모델만 저장할 여부\n",
    "* save_weights_only: Weights만 저장할 지 여부 \n",
    "* mode: {auto, min, max} 중 하나. monitor 지표가 감소해야 좋을 경우 min, 증가해야 좋을 경우 max, auto는 monitor 이름에서 자동으로 유추. "
   ]
  },
  {
   "cell_type": "code",
   "execution_count": 41,
   "id": "72fce3d9",
   "metadata": {
    "execution": {
     "iopub.execute_input": "2023-03-05T13:48:05.664696Z",
     "iopub.status.busy": "2023-03-05T13:48:05.663612Z",
     "iopub.status.idle": "2023-03-05T13:48:06.726306Z",
     "shell.execute_reply": "2023-03-05T13:48:06.724964Z"
    },
    "papermill": {
     "duration": 1.288214,
     "end_time": "2023-03-05T13:48:06.728769",
     "exception": false,
     "start_time": "2023-03-05T13:48:05.440555",
     "status": "completed"
    },
    "tags": []
   },
   "outputs": [
    {
     "name": "stdout",
     "output_type": "stream",
     "text": [
      "/kaggle/working\r\n"
     ]
    }
   ],
   "source": [
    "!pwd"
   ]
  },
  {
   "cell_type": "code",
   "execution_count": 42,
   "id": "db4942e9",
   "metadata": {
    "execution": {
     "iopub.execute_input": "2023-03-05T13:48:07.258661Z",
     "iopub.status.busy": "2023-03-05T13:48:07.257375Z",
     "iopub.status.idle": "2023-03-05T13:48:27.233288Z",
     "shell.execute_reply": "2023-03-05T13:48:27.232075Z"
    },
    "papermill": {
     "duration": 20.21987,
     "end_time": "2023-03-05T13:48:27.235719",
     "exception": false,
     "start_time": "2023-03-05T13:48:07.015849",
     "status": "completed"
    },
    "tags": []
   },
   "outputs": [
    {
     "name": "stdout",
     "output_type": "stream",
     "text": [
      "Epoch 1/10\n",
      "399/399 [==============================] - 4s 5ms/step - loss: 0.6149 - accuracy: 0.7896 - val_loss: 0.4526 - val_accuracy: 0.8347\n",
      "Epoch 2/10\n",
      "399/399 [==============================] - 2s 4ms/step - loss: 0.4162 - accuracy: 0.8526 - val_loss: 0.4260 - val_accuracy: 0.8470\n",
      "Epoch 3/10\n",
      "389/399 [============================>.] - ETA: 0s - loss: 0.3721 - accuracy: 0.8681\n",
      "Epoch 3: val_loss improved from inf to 0.39895, saving model to /kaggle/working/weights.03-0.40.hdf5\n",
      "399/399 [==============================] - 2s 4ms/step - loss: 0.3715 - accuracy: 0.8686 - val_loss: 0.3989 - val_accuracy: 0.8551\n",
      "Epoch 4/10\n",
      "399/399 [==============================] - 2s 4ms/step - loss: 0.3422 - accuracy: 0.8769 - val_loss: 0.3541 - val_accuracy: 0.8681\n",
      "Epoch 5/10\n",
      "399/399 [==============================] - 2s 4ms/step - loss: 0.3251 - accuracy: 0.8835 - val_loss: 0.3663 - val_accuracy: 0.8662\n",
      "Epoch 6/10\n",
      "398/399 [============================>.] - ETA: 0s - loss: 0.3116 - accuracy: 0.8886\n",
      "Epoch 6: val_loss improved from 0.39895 to 0.33952, saving model to /kaggle/working/weights.06-0.34.hdf5\n",
      "399/399 [==============================] - 2s 5ms/step - loss: 0.3116 - accuracy: 0.8886 - val_loss: 0.3395 - val_accuracy: 0.8779\n",
      "Epoch 7/10\n",
      "399/399 [==============================] - 2s 4ms/step - loss: 0.2981 - accuracy: 0.8926 - val_loss: 0.3390 - val_accuracy: 0.8792\n",
      "Epoch 8/10\n",
      "399/399 [==============================] - 2s 6ms/step - loss: 0.2856 - accuracy: 0.8959 - val_loss: 0.3340 - val_accuracy: 0.8799\n",
      "Epoch 9/10\n",
      "390/399 [============================>.] - ETA: 0s - loss: 0.2778 - accuracy: 0.8978\n",
      "Epoch 9: val_loss improved from 0.33952 to 0.32503, saving model to /kaggle/working/weights.09-0.33.hdf5\n",
      "399/399 [==============================] - 2s 4ms/step - loss: 0.2784 - accuracy: 0.8977 - val_loss: 0.3250 - val_accuracy: 0.8810\n",
      "Epoch 10/10\n",
      "399/399 [==============================] - 2s 4ms/step - loss: 0.2691 - accuracy: 0.9021 - val_loss: 0.3375 - val_accuracy: 0.8779\n"
     ]
    }
   ],
   "source": [
    "from tensorflow.keras.callbacks import ModelCheckpoint\n",
    "\n",
    "model = create_model()\n",
    "model.compile(optimizer=Adam(0.001), loss='categorical_crossentropy', metrics=['accuracy'])\n",
    "\n",
    "mcp_cb = ModelCheckpoint(filepath='/kaggle/working/weights.{epoch:02d}-{val_loss:.2f}.hdf5', monitor='val_loss', \n",
    "                         save_best_only=True, save_weights_only=True, mode='min', period=3, verbose=1)\n",
    "history = model.fit(x=tr_images, y=tr_oh_labels, batch_size=128, epochs=10, validation_data=(val_images, val_oh_labels),\n",
    "                   callbacks=[mcp_cb])"
   ]
  },
  {
   "cell_type": "code",
   "execution_count": 43,
   "id": "36f3066d",
   "metadata": {
    "execution": {
     "iopub.execute_input": "2023-03-05T13:48:27.753907Z",
     "iopub.status.busy": "2023-03-05T13:48:27.753112Z",
     "iopub.status.idle": "2023-03-05T13:48:28.825669Z",
     "shell.execute_reply": "2023-03-05T13:48:28.824268Z"
    },
    "papermill": {
     "duration": 1.341805,
     "end_time": "2023-03-05T13:48:28.828503",
     "exception": false,
     "start_time": "2023-03-05T13:48:27.486698",
     "status": "completed"
    },
    "tags": []
   },
   "outputs": [
    {
     "name": "stdout",
     "output_type": "stream",
     "text": [
      "total 2692\r\n",
      "   131080 drwxr-xr-x 2 root root    4096 Mar  5 13:48 .\r\n",
      "280366174 drwxr-xr-x 6 root root    4096 Mar  5 13:43 ..\r\n",
      "   131081 ---------- 1 root root 1714023 Mar  5 13:48 __notebook__.ipynb\r\n",
      "   131082 -rw-r--r-- 1 root root  344040 Mar  5 13:48 weights.03-0.40.hdf5\r\n",
      "   131083 -rw-r--r-- 1 root root  344040 Mar  5 13:48 weights.06-0.34.hdf5\r\n",
      "   131084 -rw-r--r-- 1 root root  344040 Mar  5 13:48 weights.09-0.33.hdf5\r\n"
     ]
    }
   ],
   "source": [
    "!ls -lia\n",
    "#!rm -rf weight*\n",
    "#!ls -lia\n"
   ]
  },
  {
   "cell_type": "markdown",
   "id": "7c76e895",
   "metadata": {
    "papermill": {
     "duration": 0.306387,
     "end_time": "2023-03-05T13:48:29.391421",
     "exception": false,
     "start_time": "2023-03-05T13:48:29.085034",
     "status": "completed"
    },
    "tags": []
   },
   "source": [
    "#### ReduceLROnPlateau(monitor='val_loss', factor=0.1, patience=10, verbose=0, mode='auto', min_delta=0.0001, cooldown=0, min_lr=0)\n",
    "* 특정 epochs 횟수동안 성능이 개선 되지 않을 시 Learning rate를 동적으로 감소 시킴 \n",
    "* monitor: 모니터할 지표(loss 또는 평가 지표) \n",
    "* factor: 학습 속도를 줄일 인수. new_lr = lr * factor \n",
    "* patience: Learing Rate를 줄이기 전에 monitor할 epochs 횟수. \n",
    "* mode: {auto, min, max} 중 하나. monitor 지표가 감소해야 좋을 경우 min, 증가해야 좋을 경우 max, auto는 monitor 이름에서 유추. "
   ]
  },
  {
   "cell_type": "code",
   "execution_count": 44,
   "id": "5d1c5c51",
   "metadata": {
    "execution": {
     "iopub.execute_input": "2023-03-05T13:48:29.930070Z",
     "iopub.status.busy": "2023-03-05T13:48:29.928874Z",
     "iopub.status.idle": "2023-03-05T13:49:24.859621Z",
     "shell.execute_reply": "2023-03-05T13:49:24.858177Z"
    },
    "papermill": {
     "duration": 55.199171,
     "end_time": "2023-03-05T13:49:24.862438",
     "exception": false,
     "start_time": "2023-03-05T13:48:29.663267",
     "status": "completed"
    },
    "tags": []
   },
   "outputs": [
    {
     "name": "stdout",
     "output_type": "stream",
     "text": [
      "Epoch 1/30\n",
      "399/399 [==============================] - 3s 4ms/step - loss: 0.5866 - accuracy: 0.7984 - val_loss: 0.4423 - val_accuracy: 0.8468 - lr: 0.0010\n",
      "Epoch 2/30\n",
      "399/399 [==============================] - 2s 4ms/step - loss: 0.4136 - accuracy: 0.8555 - val_loss: 0.4157 - val_accuracy: 0.8497 - lr: 0.0010\n",
      "Epoch 3/30\n",
      "399/399 [==============================] - 2s 4ms/step - loss: 0.3733 - accuracy: 0.8682 - val_loss: 0.3776 - val_accuracy: 0.8654 - lr: 0.0010\n",
      "Epoch 4/30\n",
      "399/399 [==============================] - 2s 4ms/step - loss: 0.3448 - accuracy: 0.8789 - val_loss: 0.3720 - val_accuracy: 0.8638 - lr: 0.0010\n",
      "Epoch 5/30\n",
      "399/399 [==============================] - 2s 5ms/step - loss: 0.3233 - accuracy: 0.8841 - val_loss: 0.3579 - val_accuracy: 0.8739 - lr: 0.0010\n",
      "Epoch 6/30\n",
      "399/399 [==============================] - 2s 5ms/step - loss: 0.3080 - accuracy: 0.8889 - val_loss: 0.3490 - val_accuracy: 0.8726 - lr: 0.0010\n",
      "Epoch 7/30\n",
      "399/399 [==============================] - 2s 4ms/step - loss: 0.2957 - accuracy: 0.8934 - val_loss: 0.3240 - val_accuracy: 0.8819 - lr: 0.0010\n",
      "Epoch 8/30\n",
      "399/399 [==============================] - 2s 4ms/step - loss: 0.2848 - accuracy: 0.8959 - val_loss: 0.3265 - val_accuracy: 0.8806 - lr: 0.0010\n",
      "Epoch 9/30\n",
      "399/399 [==============================] - 2s 4ms/step - loss: 0.2735 - accuracy: 0.9002 - val_loss: 0.3247 - val_accuracy: 0.8819 - lr: 0.0010\n",
      "Epoch 10/30\n",
      "399/399 [==============================] - 2s 4ms/step - loss: 0.2672 - accuracy: 0.9024 - val_loss: 0.3218 - val_accuracy: 0.8826 - lr: 0.0010\n",
      "Epoch 11/30\n",
      "399/399 [==============================] - 2s 4ms/step - loss: 0.2617 - accuracy: 0.9045 - val_loss: 0.3521 - val_accuracy: 0.8771 - lr: 0.0010\n",
      "Epoch 12/30\n",
      "399/399 [==============================] - 2s 5ms/step - loss: 0.2526 - accuracy: 0.9074 - val_loss: 0.3101 - val_accuracy: 0.8876 - lr: 0.0010\n",
      "Epoch 13/30\n",
      "399/399 [==============================] - 2s 6ms/step - loss: 0.2451 - accuracy: 0.9105 - val_loss: 0.3250 - val_accuracy: 0.8853 - lr: 0.0010\n",
      "Epoch 14/30\n",
      "399/399 [==============================] - 2s 4ms/step - loss: 0.2361 - accuracy: 0.9144 - val_loss: 0.3223 - val_accuracy: 0.8872 - lr: 0.0010\n",
      "Epoch 15/30\n",
      "399/399 [==============================] - ETA: 0s - loss: 0.2347 - accuracy: 0.9137\n",
      "Epoch 15: ReduceLROnPlateau reducing learning rate to 0.0003000000142492354.\n",
      "399/399 [==============================] - 2s 4ms/step - loss: 0.2347 - accuracy: 0.9137 - val_loss: 0.3300 - val_accuracy: 0.8852 - lr: 0.0010\n",
      "Epoch 16/30\n",
      "399/399 [==============================] - 2s 5ms/step - loss: 0.2032 - accuracy: 0.9251 - val_loss: 0.3066 - val_accuracy: 0.8929 - lr: 3.0000e-04\n",
      "Epoch 17/30\n",
      "399/399 [==============================] - 2s 4ms/step - loss: 0.1991 - accuracy: 0.9270 - val_loss: 0.3002 - val_accuracy: 0.8913 - lr: 3.0000e-04\n",
      "Epoch 18/30\n",
      "399/399 [==============================] - 2s 5ms/step - loss: 0.1952 - accuracy: 0.9292 - val_loss: 0.3075 - val_accuracy: 0.8928 - lr: 3.0000e-04\n",
      "Epoch 19/30\n",
      "399/399 [==============================] - 2s 4ms/step - loss: 0.1935 - accuracy: 0.9295 - val_loss: 0.3029 - val_accuracy: 0.8951 - lr: 3.0000e-04\n",
      "Epoch 20/30\n",
      "390/399 [============================>.] - ETA: 0s - loss: 0.1900 - accuracy: 0.9309\n",
      "Epoch 20: ReduceLROnPlateau reducing learning rate to 9.000000427477062e-05.\n",
      "399/399 [==============================] - 2s 4ms/step - loss: 0.1905 - accuracy: 0.9307 - val_loss: 0.3022 - val_accuracy: 0.8953 - lr: 3.0000e-04\n",
      "Epoch 21/30\n",
      "399/399 [==============================] - 2s 4ms/step - loss: 0.1803 - accuracy: 0.9350 - val_loss: 0.2999 - val_accuracy: 0.8953 - lr: 9.0000e-05\n",
      "Epoch 22/30\n",
      "399/399 [==============================] - 2s 4ms/step - loss: 0.1786 - accuracy: 0.9351 - val_loss: 0.2996 - val_accuracy: 0.8931 - lr: 9.0000e-05\n",
      "Epoch 23/30\n",
      "399/399 [==============================] - 2s 4ms/step - loss: 0.1776 - accuracy: 0.9360 - val_loss: 0.3014 - val_accuracy: 0.8927 - lr: 9.0000e-05\n",
      "Epoch 24/30\n",
      "399/399 [==============================] - 2s 4ms/step - loss: 0.1767 - accuracy: 0.9361 - val_loss: 0.3019 - val_accuracy: 0.8947 - lr: 9.0000e-05\n",
      "Epoch 25/30\n",
      "387/399 [============================>.] - ETA: 0s - loss: 0.1761 - accuracy: 0.9364\n",
      "Epoch 25: ReduceLROnPlateau reducing learning rate to 2.700000040931627e-05.\n",
      "399/399 [==============================] - 2s 5ms/step - loss: 0.1755 - accuracy: 0.9365 - val_loss: 0.3017 - val_accuracy: 0.8950 - lr: 9.0000e-05\n",
      "Epoch 26/30\n",
      "399/399 [==============================] - 2s 4ms/step - loss: 0.1722 - accuracy: 0.9389 - val_loss: 0.2995 - val_accuracy: 0.8948 - lr: 2.7000e-05\n",
      "Epoch 27/30\n",
      "399/399 [==============================] - 2s 4ms/step - loss: 0.1718 - accuracy: 0.9385 - val_loss: 0.3000 - val_accuracy: 0.8949 - lr: 2.7000e-05\n",
      "Epoch 28/30\n",
      "399/399 [==============================] - 2s 4ms/step - loss: 0.1714 - accuracy: 0.9384 - val_loss: 0.3005 - val_accuracy: 0.8951 - lr: 2.7000e-05\n",
      "Epoch 29/30\n",
      "393/399 [============================>.] - ETA: 0s - loss: 0.1709 - accuracy: 0.9386\n",
      "Epoch 29: ReduceLROnPlateau reducing learning rate to 8.100000013655517e-06.\n",
      "399/399 [==============================] - 2s 5ms/step - loss: 0.1710 - accuracy: 0.9386 - val_loss: 0.3003 - val_accuracy: 0.8939 - lr: 2.7000e-05\n",
      "Epoch 30/30\n",
      "399/399 [==============================] - 2s 4ms/step - loss: 0.1700 - accuracy: 0.9393 - val_loss: 0.3001 - val_accuracy: 0.8949 - lr: 8.1000e-06\n"
     ]
    }
   ],
   "source": [
    "from tensorflow.keras.callbacks import ReduceLROnPlateau\n",
    "\n",
    "model = create_model()\n",
    "model.compile(optimizer=Adam(0.001), loss='categorical_crossentropy', metrics=['accuracy'])\n",
    "\n",
    "rlr_cb = ReduceLROnPlateau(monitor='val_loss', factor=0.3, patience=3, mode='min', verbose=1)\n",
    "history = model.fit(x=tr_images, y=tr_oh_labels, batch_size=128, epochs=30, validation_data=(val_images, val_oh_labels),\n",
    "                   callbacks=[rlr_cb])"
   ]
  },
  {
   "cell_type": "markdown",
   "id": "fe4b545a",
   "metadata": {
    "papermill": {
     "duration": 0.63842,
     "end_time": "2023-03-05T13:49:25.890620",
     "exception": false,
     "start_time": "2023-03-05T13:49:25.252200",
     "status": "completed"
    },
    "tags": []
   },
   "source": [
    "#### EarlyStopping(monitor='val_loss', min_delta=0, patience=0, verbose=0, mode='auto', baseline=None, restore_best_weights=False)\n",
    "* 특정 epochs 동안 성능이 개선되지 않을 시 학습을 조기에 중단\n",
    "* monitor: 모니터할 지표(loss 또는 평가 지표) \n",
    "* patience: Early Stopping 적용 전에 monitor할 epochs 횟수. \n",
    "* mode: {auto, min, max} 중 하나. monitor 지표가 감소해야 좋을 경우 min, 증가해야 좋을 경우 max, auto는 monitor 이름에서 유추. "
   ]
  },
  {
   "cell_type": "code",
   "execution_count": 45,
   "id": "c5d3a4f1",
   "metadata": {
    "execution": {
     "iopub.execute_input": "2023-03-05T13:49:26.981056Z",
     "iopub.status.busy": "2023-03-05T13:49:26.980677Z",
     "iopub.status.idle": "2023-03-05T13:49:53.029698Z",
     "shell.execute_reply": "2023-03-05T13:49:53.028541Z"
    },
    "papermill": {
     "duration": 26.360041,
     "end_time": "2023-03-05T13:49:53.032305",
     "exception": false,
     "start_time": "2023-03-05T13:49:26.672264",
     "status": "completed"
    },
    "tags": []
   },
   "outputs": [
    {
     "name": "stdout",
     "output_type": "stream",
     "text": [
      "Epoch 1/30\n",
      "399/399 [==============================] - 3s 4ms/step - loss: 0.6053 - accuracy: 0.7939 - val_loss: 0.4589 - val_accuracy: 0.8334\n",
      "Epoch 2/30\n",
      "399/399 [==============================] - 2s 5ms/step - loss: 0.4168 - accuracy: 0.8543 - val_loss: 0.4110 - val_accuracy: 0.8536\n",
      "Epoch 3/30\n",
      "399/399 [==============================] - 2s 4ms/step - loss: 0.3762 - accuracy: 0.8648 - val_loss: 0.3931 - val_accuracy: 0.8588\n",
      "Epoch 4/30\n",
      "399/399 [==============================] - 2s 4ms/step - loss: 0.3495 - accuracy: 0.8750 - val_loss: 0.3728 - val_accuracy: 0.8659\n",
      "Epoch 5/30\n",
      "399/399 [==============================] - 2s 5ms/step - loss: 0.3282 - accuracy: 0.8805 - val_loss: 0.3524 - val_accuracy: 0.8736\n",
      "Epoch 6/30\n",
      "399/399 [==============================] - 2s 4ms/step - loss: 0.3119 - accuracy: 0.8865 - val_loss: 0.3487 - val_accuracy: 0.8726\n",
      "Epoch 7/30\n",
      "399/399 [==============================] - 2s 4ms/step - loss: 0.2997 - accuracy: 0.8906 - val_loss: 0.3386 - val_accuracy: 0.8770\n",
      "Epoch 8/30\n",
      "399/399 [==============================] - 2s 4ms/step - loss: 0.2910 - accuracy: 0.8931 - val_loss: 0.3295 - val_accuracy: 0.8829\n",
      "Epoch 9/30\n",
      "399/399 [==============================] - 2s 4ms/step - loss: 0.2774 - accuracy: 0.8980 - val_loss: 0.3333 - val_accuracy: 0.8821\n",
      "Epoch 10/30\n",
      "399/399 [==============================] - 2s 4ms/step - loss: 0.2686 - accuracy: 0.8996 - val_loss: 0.3415 - val_accuracy: 0.8782\n",
      "Epoch 11/30\n",
      "399/399 [==============================] - 2s 4ms/step - loss: 0.2605 - accuracy: 0.9044 - val_loss: 0.3122 - val_accuracy: 0.8889\n",
      "Epoch 12/30\n",
      "399/399 [==============================] - 2s 5ms/step - loss: 0.2523 - accuracy: 0.9072 - val_loss: 0.3186 - val_accuracy: 0.8876\n",
      "Epoch 13/30\n",
      "399/399 [==============================] - 2s 4ms/step - loss: 0.2474 - accuracy: 0.9084 - val_loss: 0.3301 - val_accuracy: 0.8816\n",
      "Epoch 14/30\n",
      "399/399 [==============================] - 2s 5ms/step - loss: 0.2375 - accuracy: 0.9120 - val_loss: 0.3236 - val_accuracy: 0.8884\n",
      "Epoch 14: early stopping\n"
     ]
    }
   ],
   "source": [
    "from tensorflow.keras.callbacks import EarlyStopping\n",
    "\n",
    "model = create_model()\n",
    "model.compile(optimizer=Adam(0.001), loss='categorical_crossentropy', metrics=['accuracy'])\n",
    "\n",
    "ely_cb = EarlyStopping(monitor='val_loss', patience=3, mode='min', verbose=1)\n",
    "history = model.fit(x=tr_images, y=tr_oh_labels, batch_size=128, epochs=30, validation_data=(val_images, val_oh_labels),\n",
    "                   callbacks=[ely_cb])"
   ]
  },
  {
   "cell_type": "code",
   "execution_count": 46,
   "id": "7ca02e90",
   "metadata": {
    "execution": {
     "iopub.execute_input": "2023-03-05T13:49:53.723324Z",
     "iopub.status.busy": "2023-03-05T13:49:53.722916Z",
     "iopub.status.idle": "2023-03-05T13:49:54.812436Z",
     "shell.execute_reply": "2023-03-05T13:49:54.810954Z"
    },
    "papermill": {
     "duration": 1.432987,
     "end_time": "2023-03-05T13:49:54.815401",
     "exception": false,
     "start_time": "2023-03-05T13:49:53.382414",
     "status": "completed"
    },
    "tags": []
   },
   "outputs": [],
   "source": [
    "!rm weigh*"
   ]
  },
  {
   "cell_type": "code",
   "execution_count": 47,
   "id": "9245b96f",
   "metadata": {
    "execution": {
     "iopub.execute_input": "2023-03-05T13:49:55.534650Z",
     "iopub.status.busy": "2023-03-05T13:49:55.533396Z",
     "iopub.status.idle": "2023-03-05T13:50:48.039110Z",
     "shell.execute_reply": "2023-03-05T13:50:48.038065Z"
    },
    "papermill": {
     "duration": 52.839481,
     "end_time": "2023-03-05T13:50:48.041894",
     "exception": false,
     "start_time": "2023-03-05T13:49:55.202413",
     "status": "completed"
    },
    "tags": []
   },
   "outputs": [
    {
     "name": "stdout",
     "output_type": "stream",
     "text": [
      "Epoch 1/40\n",
      "399/399 [==============================] - 4s 6ms/step - loss: 0.5976 - accuracy: 0.7967 - val_loss: 0.4619 - val_accuracy: 0.8380 - lr: 0.0010\n",
      "Epoch 2/40\n",
      "399/399 [==============================] - 2s 5ms/step - loss: 0.4122 - accuracy: 0.8545 - val_loss: 0.3915 - val_accuracy: 0.8596 - lr: 0.0010\n",
      "Epoch 3/40\n",
      "399/399 [==============================] - 2s 5ms/step - loss: 0.3691 - accuracy: 0.8678 - val_loss: 0.4056 - val_accuracy: 0.8543 - lr: 0.0010\n",
      "Epoch 4/40\n",
      "399/399 [==============================] - 2s 5ms/step - loss: 0.3423 - accuracy: 0.8774 - val_loss: 0.3676 - val_accuracy: 0.8658 - lr: 0.0010\n",
      "Epoch 5/40\n",
      "399/399 [==============================] - 2s 5ms/step - loss: 0.3226 - accuracy: 0.8841 - val_loss: 0.3478 - val_accuracy: 0.8734 - lr: 0.0010\n",
      "Epoch 6/40\n",
      "399/399 [==============================] - 2s 5ms/step - loss: 0.3102 - accuracy: 0.8858 - val_loss: 0.3344 - val_accuracy: 0.8787 - lr: 0.0010\n",
      "Epoch 7/40\n",
      "399/399 [==============================] - 2s 6ms/step - loss: 0.2949 - accuracy: 0.8929 - val_loss: 0.3383 - val_accuracy: 0.8766 - lr: 0.0010\n",
      "Epoch 8/40\n",
      "399/399 [==============================] - 2s 4ms/step - loss: 0.2855 - accuracy: 0.8968 - val_loss: 0.3176 - val_accuracy: 0.8834 - lr: 0.0010\n",
      "Epoch 9/40\n",
      "399/399 [==============================] - 2s 5ms/step - loss: 0.2743 - accuracy: 0.9001 - val_loss: 0.3144 - val_accuracy: 0.8852 - lr: 0.0010\n",
      "Epoch 10/40\n",
      "399/399 [==============================] - 2s 5ms/step - loss: 0.2664 - accuracy: 0.9024 - val_loss: 0.3285 - val_accuracy: 0.8818 - lr: 0.0010\n",
      "Epoch 11/40\n",
      "399/399 [==============================] - 2s 5ms/step - loss: 0.2587 - accuracy: 0.9048 - val_loss: 0.3264 - val_accuracy: 0.8787 - lr: 0.0010\n",
      "Epoch 12/40\n",
      "399/399 [==============================] - 2s 5ms/step - loss: 0.2488 - accuracy: 0.9094 - val_loss: 0.3150 - val_accuracy: 0.8883 - lr: 0.0010\n",
      "Epoch 13/40\n",
      "399/399 [==============================] - 2s 5ms/step - loss: 0.2450 - accuracy: 0.9107 - val_loss: 0.3343 - val_accuracy: 0.8803 - lr: 0.0010\n",
      "Epoch 14/40\n",
      "399/399 [==============================] - ETA: 0s - loss: 0.2431 - accuracy: 0.9107\n",
      "Epoch 14: ReduceLROnPlateau reducing learning rate to 0.0003000000142492354.\n",
      "399/399 [==============================] - 2s 5ms/step - loss: 0.2431 - accuracy: 0.9107 - val_loss: 0.3177 - val_accuracy: 0.8849 - lr: 0.0010\n",
      "Epoch 15/40\n",
      "399/399 [==============================] - 2s 5ms/step - loss: 0.2096 - accuracy: 0.9241 - val_loss: 0.2966 - val_accuracy: 0.8937 - lr: 3.0000e-04\n",
      "Epoch 16/40\n",
      "399/399 [==============================] - 2s 5ms/step - loss: 0.2043 - accuracy: 0.9259 - val_loss: 0.2961 - val_accuracy: 0.8944 - lr: 3.0000e-04\n",
      "Epoch 17/40\n",
      "399/399 [==============================] - 2s 6ms/step - loss: 0.2017 - accuracy: 0.9269 - val_loss: 0.2996 - val_accuracy: 0.8907 - lr: 3.0000e-04\n",
      "Epoch 18/40\n",
      "399/399 [==============================] - 2s 5ms/step - loss: 0.1993 - accuracy: 0.9283 - val_loss: 0.2980 - val_accuracy: 0.8914 - lr: 3.0000e-04\n",
      "Epoch 19/40\n",
      "399/399 [==============================] - 2s 5ms/step - loss: 0.1969 - accuracy: 0.9285 - val_loss: 0.2959 - val_accuracy: 0.8969 - lr: 3.0000e-04\n",
      "Epoch 20/40\n",
      "399/399 [==============================] - 2s 5ms/step - loss: 0.1943 - accuracy: 0.9295 - val_loss: 0.2984 - val_accuracy: 0.8929 - lr: 3.0000e-04\n",
      "Epoch 21/40\n",
      "399/399 [==============================] - 2s 5ms/step - loss: 0.1921 - accuracy: 0.9301 - val_loss: 0.3003 - val_accuracy: 0.8924 - lr: 3.0000e-04\n",
      "Epoch 22/40\n",
      "399/399 [==============================] - 2s 5ms/step - loss: 0.1890 - accuracy: 0.9317 - val_loss: 0.3068 - val_accuracy: 0.8896 - lr: 3.0000e-04\n",
      "Epoch 23/40\n",
      "399/399 [==============================] - 2s 4ms/step - loss: 0.1869 - accuracy: 0.9322 - val_loss: 0.2987 - val_accuracy: 0.8926 - lr: 3.0000e-04\n",
      "Epoch 24/40\n",
      "388/399 [============================>.] - ETA: 0s - loss: 0.1833 - accuracy: 0.9333\n",
      "Epoch 24: ReduceLROnPlateau reducing learning rate to 9.000000427477062e-05.\n",
      "399/399 [==============================] - 2s 5ms/step - loss: 0.1833 - accuracy: 0.9333 - val_loss: 0.3102 - val_accuracy: 0.8943 - lr: 3.0000e-04\n",
      "Epoch 25/40\n",
      "399/399 [==============================] - 2s 5ms/step - loss: 0.1740 - accuracy: 0.9381 - val_loss: 0.2987 - val_accuracy: 0.8941 - lr: 9.0000e-05\n",
      "Epoch 26/40\n",
      "399/399 [==============================] - 2s 4ms/step - loss: 0.1722 - accuracy: 0.9387 - val_loss: 0.2984 - val_accuracy: 0.8941 - lr: 9.0000e-05\n",
      "Epoch 26: early stopping\n"
     ]
    }
   ],
   "source": [
    "from tensorflow.keras.callbacks import ModelCheckpoint, ReduceLROnPlateau, EarlyStopping\n",
    "\n",
    "model = create_model()\n",
    "model.compile(optimizer=Adam(0.001), loss='categorical_crossentropy', metrics=['accuracy'])\n",
    "\n",
    "mcp_cb = ModelCheckpoint(filepath='/kaggle/working/weights.{epoch:02d}-{val_loss:.2f}.hdf5', monitor='val_loss', \n",
    "                         save_best_only=True, save_weights_only=True, mode='min', period=1, verbose=0)\n",
    "rlr_cb = ReduceLROnPlateau(monitor='val_loss', factor=0.3, patience=5, mode='min', verbose=1)\n",
    "ely_cb = EarlyStopping(monitor='val_loss', patience=7, mode='min', verbose=1)\n",
    "\n",
    "history = model.fit(x=tr_images, y=tr_oh_labels, batch_size=128, epochs=40, validation_data=(val_images, val_oh_labels),\n",
    "                   callbacks=[mcp_cb, rlr_cb, ely_cb])"
   ]
  },
  {
   "cell_type": "code",
   "execution_count": 48,
   "id": "37452f00",
   "metadata": {
    "execution": {
     "iopub.execute_input": "2023-03-05T13:50:48.817010Z",
     "iopub.status.busy": "2023-03-05T13:50:48.816586Z",
     "iopub.status.idle": "2023-03-05T13:50:49.875904Z",
     "shell.execute_reply": "2023-03-05T13:50:49.874599Z"
    },
    "papermill": {
     "duration": 1.440777,
     "end_time": "2023-03-05T13:50:49.878613",
     "exception": false,
     "start_time": "2023-03-05T13:50:48.437836",
     "status": "completed"
    },
    "tags": []
   },
   "outputs": [
    {
     "name": "stdout",
     "output_type": "stream",
     "text": [
      "total 5856\r\n",
      "   131080 drwxr-xr-x 2 root root    4096 Mar  5 13:50 .\r\n",
      "280366174 drwxr-xr-x 6 root root    4096 Mar  5 13:43 ..\r\n",
      "   131081 ---------- 1 root root 2505861 Mar  5 13:50 __notebook__.ipynb\r\n",
      "   131082 -rw-r--r-- 1 root root  344080 Mar  5 13:49 weights.01-0.46.hdf5\r\n",
      "   131083 -rw-r--r-- 1 root root  344080 Mar  5 13:50 weights.02-0.39.hdf5\r\n",
      "   131084 -rw-r--r-- 1 root root  344080 Mar  5 13:50 weights.04-0.37.hdf5\r\n",
      "   131085 -rw-r--r-- 1 root root  344080 Mar  5 13:50 weights.05-0.35.hdf5\r\n",
      "   131086 -rw-r--r-- 1 root root  344080 Mar  5 13:50 weights.06-0.33.hdf5\r\n",
      "   131087 -rw-r--r-- 1 root root  344080 Mar  5 13:50 weights.08-0.32.hdf5\r\n",
      "   131088 -rw-r--r-- 1 root root  344080 Mar  5 13:50 weights.09-0.31.hdf5\r\n",
      "   131089 -rw-r--r-- 1 root root  344080 Mar  5 13:50 weights.15-0.30.hdf5\r\n",
      "   131090 -rw-r--r-- 1 root root  344080 Mar  5 13:50 weights.16-0.30.hdf5\r\n",
      "   131091 -rw-r--r-- 1 root root  344080 Mar  5 13:50 weights.19-0.30.hdf5\r\n"
     ]
    }
   ],
   "source": [
    "!ls -lia"
   ]
  },
  {
   "cell_type": "code",
   "execution_count": null,
   "id": "d3e2e78f",
   "metadata": {
    "papermill": {
     "duration": 0.388091,
     "end_time": "2023-03-05T13:50:50.698109",
     "exception": false,
     "start_time": "2023-03-05T13:50:50.310018",
     "status": "completed"
    },
    "tags": []
   },
   "outputs": [],
   "source": []
  }
 ],
 "metadata": {
  "kernelspec": {
   "display_name": "Python 3",
   "language": "python",
   "name": "python3"
  },
  "language_info": {
   "codemirror_mode": {
    "name": "ipython",
    "version": 3
   },
   "file_extension": ".py",
   "mimetype": "text/x-python",
   "name": "python",
   "nbconvert_exporter": "python",
   "pygments_lexer": "ipython3",
   "version": "3.7.12"
  },
  "papermill": {
   "default_parameters": {},
   "duration": 455.442962,
   "end_time": "2023-03-05T13:50:54.262486",
   "environment_variables": {},
   "exception": null,
   "input_path": "__notebook__.ipynb",
   "output_path": "__notebook__.ipynb",
   "parameters": {},
   "start_time": "2023-03-05T13:43:18.819524",
   "version": "2.4.0"
  }
 },
 "nbformat": 4,
 "nbformat_minor": 5
}
